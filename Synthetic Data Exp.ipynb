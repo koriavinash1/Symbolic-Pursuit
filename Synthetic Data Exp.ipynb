{
 "cells": [
  {
   "cell_type": "code",
   "execution_count": 1,
   "metadata": {},
   "outputs": [],
   "source": [
    "# ipython settings\n",
    "%load_ext autoreload\n",
    "%autoreload 2\n",
    "import warnings\n",
    "\n",
    "warnings.filterwarnings('ignore')"
   ]
  },
  {
   "cell_type": "code",
   "execution_count": 2,
   "metadata": {},
   "outputs": [],
   "source": [
    "from sklearn.metrics import mean_squared_error # we are going to assess the quality of the model based on the generalization MSE\n",
    "from sklearn.metrics import accuracy_score\n",
    "from sympy import init_printing # We use sympy to display mathematical expresssions \n",
    "import numpy as np # we use numpy to deal with arrays\n",
    "import lime \n",
    "import lime.lime_tabular\n",
    "init_printing()"
   ]
  },
  {
   "cell_type": "code",
   "execution_count": 3,
   "metadata": {},
   "outputs": [],
   "source": [
    "def f(X):\n",
    "    X = np.array(X)\n",
    "    Y = np.zeros((X.shape[0], 2))\n",
    "    radius = 0.4**2\n",
    "    margin = 0.01\n",
    "    center = (0.5, 0.5)\n",
    "        \n",
    "    Y[(X[:, 0] - center[0]) **2 + (X[:, 1] - center[1]) **2 <= radius - margin, 0] = 1.\n",
    "    Y[(X[:, 0] - center[0]) **2 + (X[:, 1] - center[1]) **2 <= radius - margin, 1] = 0.\n",
    "    \n",
    "    Y[(radius - margin < (X[:, 0] - center[0]) **2 + (X[:, 1] - center[1]) **2) *\\\n",
    "          ((X[:, 0] - center[0]) **2 + (X[:, 1] - center[1]) **2 <= radius), 0] = .75\n",
    "    Y[(radius - margin < (X[:, 0] - center[0]) **2 + (X[:, 1] - center[1]) **2) *\\\n",
    "          ((X[:, 0] - center[0]) **2 + (X[:, 1] - center[1]) **2 <= radius), 1] = .25\n",
    "    \n",
    "\n",
    "    Y[(radius < (X[:, 0] - center[0])**2 + (X[:, 1] - center[1])**2) *\\\n",
    "          ((X[:, 0] - center[0])**2 + (X[:, 1] - center[1])**2 <= radius + margin), 0] = .25\n",
    "    Y[(radius < (X[:, 0] - center[0])**2 + (X[:, 1] - center[1])**2) *\\\n",
    "          ((X[:, 0] - center[0])**2 + (X[:, 1] - center[1])**2 <= radius + margin), 1] = .75\n",
    "    \n",
    "    Y[(X[:, 0] - center[0])**2 + (X[:, 1] - center[1])**2 > (radius + margin), 0] = 0.\n",
    "    Y[(X[:, 0] - center[0])**2 + (X[:, 1] - center[1])**2 > (radius + margin), 1] = 1.\n",
    "    \n",
    "    return Y\n",
    "\n",
    "dim_X = 2"
   ]
  },
  {
   "cell_type": "code",
   "execution_count": 4,
   "metadata": {},
   "outputs": [],
   "source": [
    "n_pts = 100\n",
    "X = np.random.uniform(0, 1, (n_pts, dim_X))"
   ]
  },
  {
   "cell_type": "code",
   "execution_count": 5,
   "metadata": {},
   "outputs": [
    {
     "data": {
      "image/png": "[encoded data removed]",
      "text/plain": [
       "<Figure size 432x288 with 1 Axes>"
      ]
     },
     "metadata": {
      "needs_background": "light"
     },
     "output_type": "display_data"
    }
   ],
   "source": [
    "import matplotlib.pyplot as plt\n",
    "y = f(X)\n",
    "figure, ax = plt.subplots()\n",
    "ax.set_aspect(1)\n",
    "circle = plt.Circle((0.5, 0.5), 0.4, color='g', fill=False)\n",
    "ax.add_artist(circle)\n",
    "ax.scatter(X[:, 0][y[:, 0] > 0.75], X[:, 1][y[:, 0] > 0.75], c='r')\n",
    "ax.scatter(X[:, 0][y[:, 1] > 0.75], X[:, 1][y[:, 1] > 0.75], c='b')\n",
    "\n",
    "plt.savefig(\"syndata.png\")\n",
    "plt.show()\n"
   ]
  },
  {
   "cell_type": "code",
   "execution_count": 6,
   "metadata": {},
   "outputs": [],
   "source": [
    "n_test = 10\n",
    "X_test = np.random.uniform(0, 1, (n_test, dim_X))"
   ]
  },
  {
   "cell_type": "code",
   "execution_count": 7,
   "metadata": {},
   "outputs": [
    {
     "data": {
      "text/plain": [
       "<Figure size 432x288 with 0 Axes>"
      ]
     },
     "metadata": {},
     "output_type": "display_data"
    },
    {
     "data": {
      "image/png": "[encoded data removed]",
      "text/plain": [
       "<Figure size 432x288 with 1 Axes>"
      ]
     },
     "metadata": {
      "needs_background": "light"
     },
     "output_type": "display_data"
    }
   ],
   "source": [
    "import matplotlib.pyplot as plt\n",
    "y_ = f(X_test)\n",
    "plt.clf()\n",
    "figure, ax = plt.subplots()\n",
    "ax.set_aspect(1)\n",
    "circle = plt.Circle((0.5, 0.5), 0.4, color='g', fill=False)\n",
    "ax.add_artist(circle)\n",
    "ax.scatter(X_test[:, 0][y_[:, 0] > 0.75], X_test[:, 1][y_[:, 0] > 0.75], c='r')\n",
    "ax.scatter(X_test[:, 0][y_[:, 1] > 0.75], X_test[:, 1][y_[:, 1] > 0.75], c='b')\n",
    "plt.show()"
   ]
  },
  {
   "cell_type": "code",
   "execution_count": 17,
   "metadata": {},
   "outputs": [
    {
     "name": "stdout",
     "output_type": "stream",
     "text": [
      "Model created with the following hyperparameters :\n",
      " loss_tol=0.1 \n",
      " ratio_tol=0.9 \n",
      " maxiter=20 \n",
      " eps=0.001 \n",
      " random_seed=42\n",
      "%%%%%%%%%%%%%%%%%%%%%%%%%%%%%%%%%%%%%%%%%%%%%%%%%%%%%%%%%%%%%%%%%%%%%%%%%%%%%%%%%%%%%%%%%%%%%%%%%%%%\n",
      "Now working on term number  1 .\n",
      "====================================================================================================\n",
      "Now working on hyperparameter tree number  1 .\n",
      "Optimization terminated successfully.\n",
      "         Current function value: 0.679284\n",
      "         Iterations: 0\n",
      "         Function evaluations: 9\n",
      "         Gradient evaluations: 1\n",
      "basinhopping step 0: f 0.679284\n",
      "Optimization terminated successfully.\n",
      "         Current function value: 0.679284\n",
      "         Iterations: 0\n",
      "         Function evaluations: 9\n",
      "         Gradient evaluations: 1\n",
      "basinhopping step 1: f 0.679284 trial_f 0.679284 accepted 1  lowest_f 0.679284\n",
      "Optimization terminated successfully.\n",
      "         Current function value: 0.679284\n",
      "         Iterations: 0\n",
      "         Function evaluations: 9\n",
      "         Gradient evaluations: 1\n",
      "basinhopping step 2: f 0.679284 trial_f 0.679284 accepted 1  lowest_f 0.679284\n",
      "Optimization terminated successfully.\n",
      "         Current function value: 0.679284\n",
      "         Iterations: 0\n",
      "         Function evaluations: 9\n",
      "         Gradient evaluations: 1\n",
      "basinhopping step 3: f 0.679284 trial_f 0.679284 accepted 1  lowest_f 0.679284\n",
      "Optimization terminated successfully.\n",
      "         Current function value: 0.679284\n",
      "         Iterations: 0\n",
      "         Function evaluations: 9\n",
      "         Gradient evaluations: 1\n",
      "basinhopping step 4: f 0.679284 trial_f 0.679284 accepted 1  lowest_f 0.679284\n",
      "====================================================================================================\n",
      "Now working on hyperparameter tree number  2 .\n",
      "Optimization terminated successfully.\n",
      "         Current function value: 0.679284\n",
      "         Iterations: 0\n",
      "         Function evaluations: 11\n",
      "         Gradient evaluations: 1\n",
      "basinhopping step 0: f 0.679284\n",
      "Optimization terminated successfully.\n",
      "         Current function value: 0.679284\n",
      "         Iterations: 0\n",
      "         Function evaluations: 11\n",
      "         Gradient evaluations: 1\n",
      "basinhopping step 1: f 0.679284 trial_f 0.679284 accepted 1  lowest_f 0.679284\n",
      "found new global minimum on step 1 with function value 0.679284\n",
      "Optimization terminated successfully.\n",
      "         Current function value: 0.679284\n",
      "         Iterations: 0\n",
      "         Function evaluations: 11\n",
      "         Gradient evaluations: 1\n",
      "basinhopping step 2: f 0.679284 trial_f 0.679284 accepted 1  lowest_f 0.679284\n",
      "Optimization terminated successfully.\n",
      "         Current function value: 0.679284\n",
      "         Iterations: 0\n",
      "         Function evaluations: 11\n",
      "         Gradient evaluations: 1\n",
      "basinhopping step 3: f 0.679284 trial_f 0.679284 accepted 1  lowest_f 0.679284\n",
      "Optimization terminated successfully.\n",
      "         Current function value: 0.679284\n",
      "         Iterations: 1\n",
      "         Function evaluations: 22\n",
      "         Gradient evaluations: 2\n",
      "basinhopping step 4: f 0.679284 trial_f 0.679284 accepted 1  lowest_f 0.679284\n",
      "Warning: Desired error not necessarily achieved due to precision loss.\n",
      "         Current function value: 0.679284\n",
      "         Iterations: 0\n",
      "         Function evaluations: 848\n",
      "         Gradient evaluations: 76\n",
      "warning: basinhopping: local minimization failure\n",
      "basinhopping step 5: f 0.679284 trial_f 0.679284 accepted 1  lowest_f 0.679284\n",
      "====================================================================================================\n",
      "Now working on hyperparameter tree number  3 .\n",
      "Optimization terminated successfully.\n",
      "         Current function value: 0.679284\n",
      "         Iterations: 0\n",
      "         Function evaluations: 12\n",
      "         Gradient evaluations: 1\n",
      "basinhopping step 0: f 0.679284\n",
      "Optimization terminated successfully.\n",
      "         Current function value: 0.679284\n",
      "         Iterations: 0\n",
      "         Function evaluations: 12\n",
      "         Gradient evaluations: 1\n",
      "basinhopping step 1: f 0.679284 trial_f 0.679284 accepted 1  lowest_f 0.679284\n",
      "Optimization terminated successfully.\n",
      "         Current function value: 0.679284\n",
      "         Iterations: 0\n",
      "         Function evaluations: 12\n",
      "         Gradient evaluations: 1\n",
      "basinhopping step 2: f 0.679284 trial_f 0.679284 accepted 1  lowest_f 0.679284\n",
      "Optimization terminated successfully.\n",
      "         Current function value: 0.679284\n",
      "         Iterations: 0\n",
      "         Function evaluations: 12\n",
      "         Gradient evaluations: 1\n",
      "basinhopping step 3: f 0.679284 trial_f 0.679284 accepted 1  lowest_f 0.679284\n",
      "Optimization terminated successfully.\n",
      "         Current function value: 0.679284\n",
      "         Iterations: 0\n",
      "         Function evaluations: 12\n",
      "         Gradient evaluations: 1\n",
      "basinhopping step 4: f 0.679284 trial_f 0.679284 accepted 1  lowest_f 0.679284\n",
      "====================================================================================================\n",
      "The tree number  2  was selected as the best.\n",
      "====================================================================================================\n",
      "Backfitting complete.\n",
      "====================================================================================================\n",
      "====================================================================================================\n",
      "The current model has the following expression:  0.294267376318519*[ReLU(P1)]**0.609227538346741*hyper((0.271077449132461,), (0.586116689666026, 1.75923851467757), 1.0/[ReLU(P1)])\n",
      "The current value of the loss is:  0.6792840032985663 .\n",
      "%%%%%%%%%%%%%%%%%%%%%%%%%%%%%%%%%%%%%%%%%%%%%%%%%%%%%%%%%%%%%%%%%%%%%%%%%%%%%%%%%%%%%%%%%%%%%%%%%%%%\n",
      "Now working on term number  2 .\n",
      "====================================================================================================\n",
      "Now working on hyperparameter tree number  1 .\n",
      "Optimization terminated successfully.\n",
      "         Current function value: 0.679284\n",
      "         Iterations: 0\n",
      "         Function evaluations: 9\n",
      "         Gradient evaluations: 1\n",
      "basinhopping step 0: f 0.679284\n",
      "Optimization terminated successfully.\n",
      "         Current function value: 0.679284\n",
      "         Iterations: 0\n",
      "         Function evaluations: 9\n",
      "         Gradient evaluations: 1\n",
      "basinhopping step 1: f 0.679284 trial_f 0.679284 accepted 1  lowest_f 0.679284\n",
      "Optimization terminated successfully.\n",
      "         Current function value: 0.679284\n",
      "         Iterations: 0\n",
      "         Function evaluations: 9\n",
      "         Gradient evaluations: 1\n",
      "basinhopping step 2: f 0.679284 trial_f 0.679284 accepted 1  lowest_f 0.679284\n",
      "Optimization terminated successfully.\n",
      "         Current function value: 0.679284\n",
      "         Iterations: 0\n",
      "         Function evaluations: 9\n",
      "         Gradient evaluations: 1\n",
      "basinhopping step 3: f 0.679284 trial_f 0.679284 accepted 1  lowest_f 0.679284\n",
      "Optimization terminated successfully.\n",
      "         Current function value: 0.679284\n",
      "         Iterations: 0\n",
      "         Function evaluations: 9\n",
      "         Gradient evaluations: 1\n",
      "basinhopping step 4: f 0.679284 trial_f 0.679284 accepted 1  lowest_f 0.679284\n",
      "====================================================================================================\n",
      "Now working on hyperparameter tree number  2 .\n",
      "Optimization terminated successfully.\n",
      "         Current function value: 0.679284\n",
      "         Iterations: 0\n",
      "         Function evaluations: 11\n",
      "         Gradient evaluations: 1\n",
      "basinhopping step 0: f 0.679284\n",
      "Optimization terminated successfully.\n",
      "         Current function value: 0.679284\n",
      "         Iterations: 0\n",
      "         Function evaluations: 11\n",
      "         Gradient evaluations: 1\n",
      "basinhopping step 1: f 0.679284 trial_f 0.679284 accepted 1  lowest_f 0.679284\n",
      "found new global minimum on step 1 with function value 0.679284\n",
      "Optimization terminated successfully.\n",
      "         Current function value: 0.679284\n",
      "         Iterations: 0\n",
      "         Function evaluations: 11\n",
      "         Gradient evaluations: 1\n",
      "basinhopping step 2: f 0.679284 trial_f 0.679284 accepted 1  lowest_f 0.679284\n",
      "Optimization terminated successfully.\n",
      "         Current function value: 0.679284\n",
      "         Iterations: 0\n",
      "         Function evaluations: 11\n",
      "         Gradient evaluations: 1\n",
      "basinhopping step 3: f 0.679284 trial_f 0.679284 accepted 1  lowest_f 0.679284\n",
      "Optimization terminated successfully.\n",
      "         Current function value: 0.679284\n",
      "         Iterations: 1\n",
      "         Function evaluations: 22\n",
      "         Gradient evaluations: 2\n",
      "basinhopping step 4: f 0.679284 trial_f 0.679284 accepted 1  lowest_f 0.679284\n",
      "Warning: Desired error not necessarily achieved due to precision loss.\n",
      "         Current function value: 0.679284\n",
      "         Iterations: 0\n",
      "         Function evaluations: 848\n",
      "         Gradient evaluations: 76\n",
      "warning: basinhopping: local minimization failure\n",
      "basinhopping step 5: f 0.679284 trial_f 0.679284 accepted 1  lowest_f 0.679284\n",
      "====================================================================================================\n",
      "Now working on hyperparameter tree number  3 .\n",
      "Optimization terminated successfully.\n",
      "         Current function value: 0.679284\n",
      "         Iterations: 0\n",
      "         Function evaluations: 12\n",
      "         Gradient evaluations: 1\n",
      "basinhopping step 0: f 0.679284\n",
      "Optimization terminated successfully.\n",
      "         Current function value: 0.679284\n",
      "         Iterations: 0\n",
      "         Function evaluations: 12\n",
      "         Gradient evaluations: 1\n",
      "basinhopping step 1: f 0.679284 trial_f 0.679284 accepted 1  lowest_f 0.679284\n",
      "Optimization terminated successfully.\n",
      "         Current function value: 0.679284\n",
      "         Iterations: 0\n",
      "         Function evaluations: 12\n",
      "         Gradient evaluations: 1\n",
      "basinhopping step 2: f 0.679284 trial_f 0.679284 accepted 1  lowest_f 0.679284\n",
      "Optimization terminated successfully.\n",
      "         Current function value: 0.679284\n",
      "         Iterations: 0\n",
      "         Function evaluations: 12\n",
      "         Gradient evaluations: 1\n",
      "basinhopping step 3: f 0.679284 trial_f 0.679284 accepted 1  lowest_f 0.679284\n",
      "Optimization terminated successfully.\n",
      "         Current function value: 0.679284\n",
      "         Iterations: 0\n",
      "         Function evaluations: 12\n",
      "         Gradient evaluations: 1\n",
      "basinhopping step 4: f 0.679284 trial_f 0.679284 accepted 1  lowest_f 0.679284\n",
      "====================================================================================================\n",
      "The algorithm stopped because it was unable to find a term that significantly decreases the loss.\n",
      "----------------------------------------------------------------------------------------------------\n",
      "----------------------------------------------------------------------------------------------------\n",
      "The final model has the following expression:\n",
      "0.294267376318519*[ReLU(P1)]**0.609227538346741*hyper((0.271077449132461,), (0.586116689666026, 1.75923851467757), 1.0/[ReLU(P1)])\n",
      "expression for class 0\n",
      "P1 =  -0.25920937729921*X1 - 0.147910480948644*X2\n",
      "expression for class 1\n",
      "P2 =  -0.283534419668871*X1 + 2.34167066056559*X2\n",
      "The number of terms inside the expansion is 1 .\n",
      "The current loss is 0.6792840032985663 .\n",
      "----------------------------------------------------------------------------------------------------\n"
     ]
    }
   ],
   "source": [
    "from symbolic_pursuit.classification import SymbolicClassifier  # our symbolic model class\n",
    "\n",
    "symbolic_model = SymbolicClassifier(verbosity=True,\n",
    "                                    maxiter=20,\n",
    "                                    nclasses=2,\n",
    "                                   loss_tol = 0.1)\n",
    "symbolic_model.fit(f, X, nmax=5)"
   ]
  },
  {
   "cell_type": "code",
   "execution_count": 18,
   "metadata": {},
   "outputs": [],
   "source": [
    "symbolic_weight_list = [] \n",
    "for k in range(n_test):\n",
    "    symbolic_weight_list.append(symbolic_model.get_feature_importance(X_test[k]))"
   ]
  },
  {
   "cell_type": "code",
   "execution_count": 19,
   "metadata": {},
   "outputs": [
    {
     "name": "stdout",
     "output_type": "stream",
     "text": [
      "[[-0.0101500094127498, 0.0930863503533674], [-0.0101500094127498, 0.0930863503533674], [-0.0101500094127498, 0.0930863503533674], [-0.0101500094127498, 0.0930863503533674], [-0.0101500094127498, 0.0930863503533674], [-0.0101500094127498, 0.0930863503533674], [-0.0101500094127498, 0.0930863503533674], [-0.0101500094127498, 0.0930863503533674], [-0.0101500094127498, 0.0930863503533674], [-0.0101500094127498, 0.0930863503533674]]\n"
     ]
    }
   ],
   "source": [
    "print (symbolic_weight_list)"
   ]
  },
  {
   "cell_type": "code",
   "execution_count": 20,
   "metadata": {},
   "outputs": [
    {
     "name": "stdout",
     "output_type": "stream",
     "text": [
      "-9.17106049541573 0\n"
     ]
    }
   ],
   "source": [
    "relative_wts = np.array(symbolic_weight_list)[np.argmax(f(X_test), 1) == 0]\n",
    "relative_wts /= relative_wts[:, 0][..., None]\n",
    "print (np.mean(relative_wts[:, 1]), np.var(relative_wts[:, 1]))"
   ]
  },
  {
   "cell_type": "code",
   "execution_count": 21,
   "metadata": {},
   "outputs": [
    {
     "name": "stdout",
     "output_type": "stream",
     "text": [
      "-0.0111500094127498*X0 + 0.0920863503533674*X1 + 0.0085455961922744*(-0.0849971800922937*X0 + 0.701979685871577*X1 - 1)**2 + 0.25260062224978\n"
     ]
    }
   ],
   "source": [
    "poly1 = symbolic_model.get_taylor(X_test[0], approx_order=2)\n",
    "print(poly1)"
   ]
  },
  {
   "cell_type": "code",
   "execution_count": 22,
   "metadata": {},
   "outputs": [
    {
     "data": {
      "text/plain": [
       "[<pysymbolic.models.special_functions.MeijerG at 0x7f371a1d9550>,\n",
       " array([-0.25920938, -0.14791048, -0.28353442,  2.34167066]),\n",
       " 0.5175599632000338]"
      ]
     },
     "execution_count": 22,
     "metadata": {},
     "output_type": "execute_result"
    }
   ],
   "source": [
    "symbolic_model.terms_list[-1]"
   ]
  },
  {
   "cell_type": "code",
   "execution_count": 23,
   "metadata": {},
   "outputs": [
    {
     "data": {
      "text/plain": [
       "array([[0.5, 0.5],\n",
       "       [0.5, 0.5],\n",
       "       [0.5, 0.5],\n",
       "       [0.5, 0.5],\n",
       "       [0.5, 0.5],\n",
       "       [0.5, 0.5],\n",
       "       [0.5, 0.5],\n",
       "       [0.5, 0.5],\n",
       "       [0.5, 0.5],\n",
       "       [0.5, 0.5]])"
      ]
     },
     "execution_count": 23,
     "metadata": {},
     "output_type": "execute_result"
    }
   ],
   "source": [
    "(symbolic_model.predict(X_test))"
   ]
  },
  {
   "cell_type": "code",
   "execution_count": null,
   "metadata": {},
   "outputs": [],
   "source": []
  },
  {
   "cell_type": "code",
   "execution_count": null,
   "metadata": {},
   "outputs": [],
   "source": []
  },
  {
   "cell_type": "code",
   "execution_count": null,
   "metadata": {},
   "outputs": [],
   "source": []
  },
  {
   "cell_type": "code",
   "execution_count": null,
   "metadata": {},
   "outputs": [],
   "source": [
    "def order_weights(exp_list):\n",
    "    ordered_weights = [0 for _ in range(dim_X)]\n",
    "    for tup in exp_list:\n",
    "        feature_id = int(tup[0].split('x_')[1][0])\n",
    "        ordered_weights[feature_id-1] = tup[1]    \n",
    "    return ordered_weights   "
   ]
  },
  {
   "cell_type": "code",
   "execution_count": null,
   "metadata": {},
   "outputs": [],
   "source": [
    "lime_weight_list = []\n",
    "explainer = lime.lime_tabular.LimeTabularExplainer(X, \n",
    "                                                   feature_names=[\"x_\"+str(k) for k in range(1,dim_X+1)], \n",
    "                                                   class_names=['f'], \n",
    "                                                   verbose=False,\n",
    "                                                   mode='classification')\n",
    "\n",
    "for i in range(n_test):\n",
    "    exp = explainer.explain_instance(X_test[i], f, num_features=dim_X)\n",
    "    lime_weight_list.append(order_weights(exp.as_list()))  \n",
    "                            \n",
    "print(lime_weight_list) "
   ]
  },
  {
   "cell_type": "code",
   "execution_count": null,
   "metadata": {},
   "outputs": [],
   "source": [
    "relative_wts = np.array(lime_weight_list)\n",
    "relative_wts /= relative_wts[:, 0][..., None]\n",
    "print (np.mean(relative_wts[:, 1]), np.var(relative_wts[:, 1]))"
   ]
  },
  {
   "cell_type": "code",
   "execution_count": null,
   "metadata": {},
   "outputs": [],
   "source": []
  },
  {
   "cell_type": "code",
   "execution_count": null,
   "metadata": {},
   "outputs": [],
   "source": []
  },
  {
   "cell_type": "code",
   "execution_count": null,
   "metadata": {},
   "outputs": [],
   "source": []
  }
 ],
 "metadata": {
  "kernelspec": {
   "display_name": "Python 3",
   "language": "python",
   "name": "python3"
  },
  "language_info": {
   "codemirror_mode": {
    "name": "ipython",
    "version": 3
   },
   "file_extension": ".py",
   "mimetype": "text/x-python",
   "name": "python",
   "nbconvert_exporter": "python",
   "pygments_lexer": "ipython3",
   "version": "3.7.7"
  }
 },
 "nbformat": 4,
 "nbformat_minor": 4
}

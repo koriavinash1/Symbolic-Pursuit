{
 "cells": [
  {
   "cell_type": "code",
   "execution_count": 1,
   "metadata": {},
   "outputs": [],
   "source": [
    "# ipython settings\n",
    "%load_ext autoreload\n",
    "%autoreload 2\n",
    "import warnings\n",
    "\n",
    "warnings.filterwarnings('ignore')"
   ]
  },
  {
   "cell_type": "code",
   "execution_count": 2,
   "metadata": {},
   "outputs": [],
   "source": [
    "from sklearn.metrics import mean_squared_error # we are going to assess the quality of the model based on the generalization MSE\n",
    "from sklearn.metrics import accuracy_score\n",
    "from sympy import init_printing # We use sympy to display mathematical expresssions \n",
    "import numpy as np # we use numpy to deal with arrays\n",
    "import lime \n",
    "import lime.lime_tabular\n",
    "init_printing()"
   ]
  },
  {
   "cell_type": "code",
   "execution_count": 49,
   "metadata": {},
   "outputs": [],
   "source": [
    "def f(X):\n",
    "    X = np.array(X)\n",
    "    Y = np.zeros((X.shape[0], 2))\n",
    "    radius = 0.75\n",
    "    margin = 0.1\n",
    "        \n",
    "    Y[X[:, 0]**2 + X[:, 1]**2 <= radius - margin, 0] = 1.\n",
    "    Y[X[:, 0]**2 + X[:, 1]**2 <= radius - margin, 1] = 0.\n",
    "    \n",
    "    Y[(radius - margin < X[:, 0]**2 + X[:, 1]**2) *\\\n",
    "          (X[:, 0]**2 + X[:, 1]**2 <= radius), 0] = .75\n",
    "    Y[(radius - margin < X[:, 0]**2 + X[:, 1]**2) *\\\n",
    "          (X[:, 0]**2 + X[:, 1]**2 <= radius), 1] = .25\n",
    "    \n",
    "\n",
    "    Y[(radius < X[:, 0]**2 + X[:, 1]**2) *\\\n",
    "          (X[:, 0]**2 + X[:, 1]**2 <= radius + margin), 0] = .25\n",
    "    Y[(radius < X[:, 0]**2 + X[:, 1]**2) *\\\n",
    "          (X[:, 0]**2 + X[:, 1]**2 <= radius + margin), 1] = .75\n",
    "    \n",
    "    Y[X[:, 0]**2 + X[:, 1]**2 > (radius + margin), 0] = 0.\n",
    "    Y[X[:, 0]**2 + X[:, 1]**2 > (radius + margin), 1] = 1.\n",
    "    \n",
    "    return Y\n",
    "\n",
    "dim_X = 2"
   ]
  },
  {
   "cell_type": "code",
   "execution_count": 50,
   "metadata": {},
   "outputs": [],
   "source": [
    "n_pts = 100\n",
    "X = np.random.uniform(-1, 1, (n_pts, dim_X))"
   ]
  },
  {
   "cell_type": "code",
   "execution_count": 58,
   "metadata": {},
   "outputs": [
    {
     "data": {
      "image/png": "[encoded data removed]",
      "text/plain": [
       "<Figure size 432x288 with 1 Axes>"
      ]
     },
     "metadata": {
      "needs_background": "light"
     },
     "output_type": "display_data"
    }
   ],
   "source": [
    "import matplotlib.pyplot as plt\n",
    "y = f(X)\n",
    "plt.Circle((0, 0), 0.75, color='g', fill=False)\n",
    "plt.scatter(X[:, 0][y[:, 0] > 0.75], X[:, 1][y[:, 0] > 0.75], c='r')\n",
    "plt.scatter(X[:, 0][y[:, 1] > 0.75], X[:, 1][y[:, 1] > 0.75], c='b')\n",
    "plt.show()"
   ]
  },
  {
   "cell_type": "code",
   "execution_count": 59,
   "metadata": {},
   "outputs": [],
   "source": [
    "n_test = 20\n",
    "X_test = np.random.uniform(-1, 1, (n_test, dim_X))"
   ]
  },
  {
   "cell_type": "code",
   "execution_count": 60,
   "metadata": {},
   "outputs": [
    {
     "data": {
      "image/png": "[encoded data removed]",
      "text/plain": [
       "<Figure size 432x288 with 1 Axes>"
      ]
     },
     "metadata": {
      "needs_background": "light"
     },
     "output_type": "display_data"
    }
   ],
   "source": [
    "import matplotlib.pyplot as plt\n",
    "y_ = f(X_test)\n",
    "plt.Circle((0, 0), 0.75, color='g', fill=False)\n",
    "plt.scatter(X_test[:, 0][y_[:, 0] > 0.75], X_test[:, 1][y_[:, 0] > 0.75], c='r')\n",
    "plt.scatter(X_test[:, 0][y_[:, 1] > 0.75], X_test[:, 1][y_[:, 1] > 0.75], c='b')\n",
    "plt.show()"
   ]
  },
  {
   "cell_type": "code",
   "execution_count": 61,
   "metadata": {},
   "outputs": [],
   "source": [
    "def order_weights(exp_list):\n",
    "    ordered_weights = [0 for _ in range(dim_X)]\n",
    "    for tup in exp_list:\n",
    "        feature_id = int(tup[0].split('x_')[1][0])\n",
    "        ordered_weights[feature_id-1] = tup[1]    \n",
    "    return ordered_weights   "
   ]
  },
  {
   "cell_type": "code",
   "execution_count": 62,
   "metadata": {},
   "outputs": [
    {
     "name": "stdout",
     "output_type": "stream",
     "text": [
      "Intercept 0.4480436492176862\n",
      "Prediction_local [-0.03804627]\n",
      "Right: 0.0\n",
      "Intercept 0.3273243888280303\n",
      "Prediction_local [0.3331639]\n",
      "Right: 0.0\n",
      "Intercept 0.17803539208450603\n",
      "Prediction_local [0.78901496]\n",
      "Right: 1.0\n",
      "Intercept 0.17279277953599376\n",
      "Prediction_local [0.76639239]\n",
      "Right: 1.0\n",
      "Intercept 0.18799135128761005\n",
      "Prediction_local [0.77093387]\n",
      "Right: 1.0\n",
      "Intercept 0.33054673923333006\n",
      "Prediction_local [0.32808405]\n",
      "Right: 1.0\n",
      "Intercept 0.22032575429454454\n",
      "Prediction_local [0.65433939]\n",
      "Right: 1.0\n",
      "Intercept 0.17573455104795765\n",
      "Prediction_local [0.78504425]\n",
      "Right: 1.0\n",
      "Intercept 0.35486310296124673\n",
      "Prediction_local [0.24830072]\n",
      "Right: 0.0\n",
      "Intercept 0.1708786122528961\n",
      "Prediction_local [0.77029991]\n",
      "Right: 1.0\n",
      "Intercept 0.35728547145819134\n",
      "Prediction_local [0.25646784]\n",
      "Right: 0.0\n",
      "Intercept 0.3620569878894218\n",
      "Prediction_local [0.26170664]\n",
      "Right: 0.0\n",
      "Intercept 0.3280208318537074\n",
      "Prediction_local [0.35114222]\n",
      "Right: 1.0\n",
      "Intercept 0.47493003963163916\n",
      "Prediction_local [-0.11442621]\n",
      "Right: 0.0\n",
      "Intercept 0.17368379868898598\n",
      "Prediction_local [0.79858265]\n",
      "Right: 1.0\n",
      "Intercept 0.1777412407852727\n",
      "Prediction_local [0.78732197]\n",
      "Right: 0.75\n",
      "Intercept 0.20430765128205752\n",
      "Prediction_local [0.65784715]\n",
      "Right: 1.0\n",
      "Intercept 0.3639061352755063\n",
      "Prediction_local [0.27424423]\n",
      "Right: 0.0\n",
      "Intercept 0.1848668451217948\n",
      "Prediction_local [0.79745035]\n",
      "Right: 1.0\n",
      "Intercept 0.3491229943529741\n",
      "Prediction_local [0.27185302]\n",
      "Right: 0.0\n",
      "[[-0.27082779557626163, -0.21526212510034728], [0.337601463062963, -0.3317619492066201], [0.3968886028882592, 0.21409096971850144], [0.37512211772498, 0.21847748959103394], [0.3848184894335195, 0.19812402491544986], [0.32110042944258893, -0.3235631231776469], [0.22971603488406853, 0.2042976052225126], [0.23208424079743367, 0.3772254557668256], [0.22029074328701237, -0.32685312732402017], [0.38735747922830127, 0.21206381565626958], [-0.2804323229435156, 0.17961468773090075], [0.23008399335890412, -0.3304343399172139], [0.3405880641726912, -0.31746667446173177], [-0.3041708745026019, -0.28518537873802624], [0.25016013046134433, 0.37473871732771935], [0.3880615243611608, 0.2215192020489737], [0.2522102751181406, 0.20132921882339594], [-0.2909441321865534, 0.20128222557368827], [0.3791528768161163, 0.23343063133305259], [0.23975447551062432, -0.317024446128888]]\n"
     ]
    }
   ],
   "source": [
    "lime_weight_list = []\n",
    "explainer = lime.lime_tabular.LimeTabularExplainer(X, \n",
    "                                                   feature_names=[\"x_\"+str(k) for k in range(1,dim_X+1)], \n",
    "                                                   class_names=['f'], \n",
    "                                                   verbose=True,\n",
    "                                                   mode='classification')\n",
    "\n",
    "for i in range(n_test):\n",
    "    exp = explainer.explain_instance(X_test[i], f, num_features=dim_X)\n",
    "    lime_weight_list.append(order_weights(exp.as_list()))  \n",
    "                            \n",
    "print(lime_weight_list) "
   ]
  },
  {
   "cell_type": "code",
   "execution_count": null,
   "metadata": {},
   "outputs": [
    {
     "name": "stdout",
     "output_type": "stream",
     "text": [
      "Model created with the following hyperparameters :\n",
      " loss_tol=0.001 \n",
      " ratio_tol=0.9 \n",
      " maxiter=10 \n",
      " eps=0.0001 \n",
      " random_seed=42\n",
      "%%%%%%%%%%%%%%%%%%%%%%%%%%%%%%%%%%%%%%%%%%%%%%%%%%%%%%%%%%%%%%%%%%%%%%%%%%%%%%%%%%%%%%%%%%%%%%%%%%%%\n",
      "Now working on term number  1 .\n",
      "====================================================================================================\n",
      "Now working on hyperparameter tree number  1 .\n",
      "Optimization terminated successfully.\n",
      "         Current function value: 0.311916\n",
      "         Iterations: 5\n",
      "         Function evaluations: 243\n",
      "         Gradient evaluations: 27\n",
      "====================================================================================================\n",
      "Now working on hyperparameter tree number  2 .\n",
      "Warning: Maximum number of iterations has been exceeded.\n",
      "         Current function value: 0.311922\n",
      "         Iterations: 10\n",
      "         Function evaluations: 286\n",
      "         Gradient evaluations: 26\n",
      "====================================================================================================\n",
      "Now working on hyperparameter tree number  3 .\n",
      "Warning: Maximum number of iterations has been exceeded.\n",
      "         Current function value: 0.311923\n",
      "         Iterations: 10\n",
      "         Function evaluations: 360\n",
      "         Gradient evaluations: 30\n",
      "====================================================================================================\n",
      "The tree number  1  was selected as the best.\n",
      "====================================================================================================\n",
      "Backfitting complete.\n",
      "====================================================================================================\n",
      "====================================================================================================\n",
      "The current model has the following expression:  -0.0154259234097494*[ReLU(P1)]**0.139499790658654*exp(0.0339953015616369*I*pi)*besseli(-0.0679906031232738, 2.0*sqrt([ReLU(P1)])*exp_polar(I*pi/2))\n",
      "The current value of the loss is:  0.3119161500046147 .\n",
      "%%%%%%%%%%%%%%%%%%%%%%%%%%%%%%%%%%%%%%%%%%%%%%%%%%%%%%%%%%%%%%%%%%%%%%%%%%%%%%%%%%%%%%%%%%%%%%%%%%%%\n",
      "Now working on term number  2 .\n",
      "====================================================================================================\n",
      "Now working on hyperparameter tree number  1 .\n",
      "Optimization terminated successfully.\n",
      "         Current function value: 0.311888\n",
      "         Iterations: 5\n",
      "         Function evaluations: 243\n",
      "         Gradient evaluations: 27\n",
      "====================================================================================================\n",
      "Now working on hyperparameter tree number  2 .\n"
     ]
    }
   ],
   "source": [
    "from symbolic_pursuit.classification import SymbolicClassifier  # our symbolic model class\n",
    "\n",
    "symbolic_model = SymbolicClassifier(maxiter=10,\n",
    "                                    nclasses=2,\n",
    "                                    eps=1.0e-4)\n",
    "symbolic_model.fit(f, X[:25])"
   ]
  },
  {
   "cell_type": "code",
   "execution_count": null,
   "metadata": {},
   "outputs": [],
   "source": []
  }
 ],
 "metadata": {
  "kernelspec": {
   "display_name": "Python 3",
   "language": "python",
   "name": "python3"
  },
  "language_info": {
   "codemirror_mode": {
    "name": "ipython",
    "version": 3
   },
   "file_extension": ".py",
   "mimetype": "text/x-python",
   "name": "python",
   "nbconvert_exporter": "python",
   "pygments_lexer": "ipython3",
   "version": "3.7.7"
  }
 },
 "nbformat": 4,
 "nbformat_minor": 4
}

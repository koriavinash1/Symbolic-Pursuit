{
 "cells": [
  {
   "cell_type": "code",
   "execution_count": 1,
   "metadata": {},
   "outputs": [],
   "source": [
    "# ipython settings\n",
    "%load_ext autoreload\n",
    "%autoreload 2\n",
    "import warnings\n",
    "\n",
    "warnings.filterwarnings('ignore')"
   ]
  },
  {
   "cell_type": "code",
   "execution_count": 2,
   "metadata": {},
   "outputs": [],
   "source": [
    "from sklearn.metrics import mean_squared_error # we are going to assess the quality of the model based on the generalization MSE\n",
    "from sklearn.metrics import accuracy_score\n",
    "from sympy import init_printing # We use sympy to display mathematical expresssions \n",
    "import numpy as np # we use numpy to deal with arrays\n",
    "import lime \n",
    "import lime.lime_tabular\n",
    "init_printing()"
   ]
  },
  {
   "cell_type": "code",
   "execution_count": 3,
   "metadata": {},
   "outputs": [],
   "source": [
    "def f(X):\n",
    "    X = np.array(X)\n",
    "    Y = np.zeros((X.shape[0], 2))\n",
    "    radius = 0.4**2\n",
    "    margin = 0.01\n",
    "    center = (0.5, 0.5)\n",
    "        \n",
    "    Y[(X[:, 0] - center[0]) **2 + (X[:, 1] - center[1]) **2 <= radius - margin, 0] = 1.\n",
    "    Y[(X[:, 0] - center[0]) **2 + (X[:, 1] - center[1]) **2 <= radius - margin, 1] = 0.\n",
    "    \n",
    "    Y[(radius - margin < (X[:, 0] - center[0]) **2 + (X[:, 1] - center[1]) **2) *\\\n",
    "          ((X[:, 0] - center[0]) **2 + (X[:, 1] - center[1]) **2 <= radius), 0] = 1.\n",
    "    Y[(radius - margin < (X[:, 0] - center[0]) **2 + (X[:, 1] - center[1]) **2) *\\\n",
    "          ((X[:, 0] - center[0]) **2 + (X[:, 1] - center[1]) **2 <= radius), 1] = 0.\n",
    "    \n",
    "\n",
    "    Y[(radius < (X[:, 0] - center[0])**2 + (X[:, 1] - center[1])**2) *\\\n",
    "          ((X[:, 0] - center[0])**2 + (X[:, 1] - center[1])**2 <= radius + margin), 0] = 0.\n",
    "    Y[(radius < (X[:, 0] - center[0])**2 + (X[:, 1] - center[1])**2) *\\\n",
    "          ((X[:, 0] - center[0])**2 + (X[:, 1] - center[1])**2 <= radius + margin), 1] = 1.\n",
    "    \n",
    "    Y[(X[:, 0] - center[0])**2 + (X[:, 1] - center[1])**2 > (radius + margin), 0] = 0.\n",
    "    Y[(X[:, 0] - center[0])**2 + (X[:, 1] - center[1])**2 > (radius + margin), 1] = 1.\n",
    "    \n",
    "    return Y\n",
    "\n",
    "dim_X = 2"
   ]
  },
  {
   "cell_type": "code",
   "execution_count": 4,
   "metadata": {},
   "outputs": [],
   "source": [
    "n_pts = 100\n",
    "X = np.random.uniform(0, 1, (n_pts, dim_X))"
   ]
  },
  {
   "cell_type": "code",
   "execution_count": 5,
   "metadata": {},
   "outputs": [
    {
     "data": {
      "image/png": "[encoded data removed]",
      "text/plain": [
       "<Figure size 432x288 with 1 Axes>"
      ]
     },
     "metadata": {
      "needs_background": "light"
     },
     "output_type": "display_data"
    }
   ],
   "source": [
    "import matplotlib.pyplot as plt\n",
    "y = f(X)\n",
    "figure, ax = plt.subplots()\n",
    "ax.set_aspect(1)\n",
    "circle = plt.Circle((0.5, 0.5), 0.4, color='g', fill=False)\n",
    "ax.add_artist(circle)\n",
    "ax.scatter(X[:, 0][y[:, 0] > 0.75], X[:, 1][y[:, 0] > 0.75], c='r')\n",
    "ax.scatter(X[:, 0][y[:, 1] > 0.75], X[:, 1][y[:, 1] > 0.75], c='b')\n",
    "\n",
    "plt.savefig(\"syndata.png\")\n",
    "plt.show()\n"
   ]
  },
  {
   "cell_type": "code",
   "execution_count": 6,
   "metadata": {},
   "outputs": [],
   "source": [
    "n_test = 100\n",
    "X_test = np.random.uniform(0, 1, (n_test, dim_X))"
   ]
  },
  {
   "cell_type": "code",
   "execution_count": 7,
   "metadata": {},
   "outputs": [
    {
     "data": {
      "text/plain": [
       "<Figure size 432x288 with 0 Axes>"
      ]
     },
     "metadata": {},
     "output_type": "display_data"
    },
    {
     "data": {
      "image/png": "[encoded data removed]",
      "text/plain": [
       "<Figure size 432x288 with 1 Axes>"
      ]
     },
     "metadata": {
      "needs_background": "light"
     },
     "output_type": "display_data"
    }
   ],
   "source": [
    "import matplotlib.pyplot as plt\n",
    "y_ = f(X_test)\n",
    "plt.clf()\n",
    "figure, ax = plt.subplots()\n",
    "ax.set_aspect(1)\n",
    "circle = plt.Circle((0.5, 0.5), 0.4, color='g', fill=False)\n",
    "ax.add_artist(circle)\n",
    "ax.scatter(X_test[:, 0][y_[:, 0] > 0.75], X_test[:, 1][y_[:, 0] > 0.75], c='r')\n",
    "ax.scatter(X_test[:, 0][y_[:, 1] > 0.75], X_test[:, 1][y_[:, 1] > 0.75], c='b')\n",
    "plt.show()"
   ]
  },
  {
   "cell_type": "code",
   "execution_count": 8,
   "metadata": {},
   "outputs": [
    {
     "name": "stdout",
     "output_type": "stream",
     "text": [
      "Model created with the following hyperparameters :\n",
      " loss_tol=0.01 \n",
      " ratio_tol=0.9 \n",
      " maxiter=100 \n",
      " eps=0.001 \n",
      " random_seed=42\n",
      "%%%%%%%%%%%%%%%%%%%%%%%%%%%%%%%%%%%%%%%%%%%%%%%%%%%%%%%%%%%%%%%%%%%%%%%%%%%%%%%%%%%%%%%%%%%%%%%%%%%%\n",
      "Now working on term number  1 .\n",
      "====================================================================================================\n",
      "Worker Index: 0; Now working on hyperparameter tree: (array([0.5, 0. ]), [1, 0, 0, 2]).\n",
      "Optimization terminated successfully.\n",
      "         Current function value: 0.349716\n",
      "         Iterations: 1\n",
      "         Function evaluations: 24\n",
      "         Gradient evaluations: 2\n",
      "Worker Index: 0; Current loss: 0.3497161620625882.\n",
      "====================================================================================================\n",
      "Worker Index: 1; Now working on hyperparameter tree: (array([2., 2., 2., 1.]), [0, 1, 3, 1]).\n",
      "Optimization terminated successfully.\n",
      "         Current function value: 0.349426\n",
      "         Iterations: 0\n",
      "         Function evaluations: 16\n",
      "         Gradient evaluations: 1\n",
      "Worker Index: 1; Current loss: 0.34942571503798775.\n",
      "====================================================================================================\n",
      "Worker Index: 2; Now working on hyperparameter tree: (array([0.3, 0.1, 0.1, 0. , 0.3]), [2, 1, 2, 3]).\n",
      "Warning: Desired error not necessarily achieved due to precision loss.\n",
      "         Current function value: 0.341637\n",
      "         Iterations: 0\n",
      "         Function evaluations: 191\n",
      "         Gradient evaluations: 10\n",
      "Worker Index: 2; Current loss: 0.3416370612305372.\n",
      "====================================================================================================\n",
      "The tree number  3  was selected as the best.\n",
      "====================================================================================================\n",
      "Backfitting complete.\n",
      "====================================================================================================\n",
      "====================================================================================================\n",
      "The current model has the following expression:  [0.496714153011233*exp(-1.0*[ReLU(P1)]), -0.138264301171185*exp(-1.0*[ReLU(P1)])]\n",
      "The current value of the loss is:  0.3416370612305372 .\n",
      "%%%%%%%%%%%%%%%%%%%%%%%%%%%%%%%%%%%%%%%%%%%%%%%%%%%%%%%%%%%%%%%%%%%%%%%%%%%%%%%%%%%%%%%%%%%%%%%%%%%%\n",
      "Now working on term number  2 .\n",
      "====================================================================================================\n",
      "Worker Index: 0; Now working on hyperparameter tree: (array([0.5, 0. ]), [1, 0, 0, 2]).\n",
      "Optimization terminated successfully.\n",
      "         Current function value: 0.334289\n",
      "         Iterations: 1\n",
      "         Function evaluations: 24\n",
      "         Gradient evaluations: 2\n",
      "Worker Index: 0; Current loss: 0.33428867082567587.\n",
      "====================================================================================================\n",
      "Worker Index: 1; Now working on hyperparameter tree: (array([2., 2., 2., 1.]), [0, 1, 3, 1]).\n",
      "Warning: Desired error not necessarily achieved due to precision loss.\n",
      "         Current function value: 0.328050\n",
      "         Iterations: 0\n",
      "         Function evaluations: 156\n",
      "         Gradient evaluations: 9\n",
      "Worker Index: 1; Current loss: 0.32805036428887424.\n",
      "====================================================================================================\n",
      "Worker Index: 2; Now working on hyperparameter tree: (array([0.3, 0.1, 0.1, 0. , 0.3]), [2, 1, 2, 3]).\n",
      "Warning: Desired error not necessarily achieved due to precision loss.\n",
      "         Current function value: 0.343771\n",
      "         Iterations: 0\n",
      "         Function evaluations: 191\n",
      "         Gradient evaluations: 10\n",
      "Worker Index: 2; Current loss: 0.3437714875506073.\n",
      "====================================================================================================\n",
      "The algorithm stopped because it was unable to find a term that significantly decreases the loss.\n",
      "----------------------------------------------------------------------------------------------------\n",
      "----------------------------------------------------------------------------------------------------\n",
      "The final model has the following expression:\n",
      "[0.496714153011233*exp(-1.0*[ReLU(P1)]), -0.138264301171185*exp(-1.0*[ReLU(P1)])]\n",
      "expression for class 0\n",
      "P1 =  0.647688538100692*X1 + 1.52302985640803*X2\n",
      "expression for class 1\n",
      "P2 =  -0.234153374723336*X1 - 0.234136956949181*X2\n",
      "The number of terms inside the expansion is 1 .\n",
      "The current loss is 0.3416370612305372 .\n",
      "----------------------------------------------------------------------------------------------------\n"
     ]
    }
   ],
   "source": [
    "from symbolic_pursuit.classification import SymbolicClassifier  # our symbolic model class\n",
    "\n",
    "symbolic_model = SymbolicClassifier(verbosity=True,\n",
    "                                    maxiter=100,\n",
    "                                    nclasses=2,\n",
    "                                   loss_tol = 0.01)\n",
    "symbolic_model.fit(f, X, nmax=10, batch_size=20)"
   ]
  },
  {
   "cell_type": "code",
   "execution_count": 9,
   "metadata": {},
   "outputs": [],
   "source": [
    "symbolic_weight_list = [] \n",
    "for k in range(n_test):\n",
    "    symbolic_weight_list.append(symbolic_model.get_feature_importance(X_test[k]))"
   ]
  },
  {
   "cell_type": "code",
   "execution_count": 10,
   "metadata": {},
   "outputs": [
    {
     "name": "stdout",
     "output_type": "stream",
     "text": [
      "[[-0.0877248186885018, -0.207635076765816], [-0.0646130713590609, -0.153288150510615], [-0.0866491898913964, -0.205105751826382], [-0.0613088684922944, -0.145518367163095], [-0.101717387056880, -0.240538390842308], [-0.0640563251108312, -0.151978970081109], [-0.0880220052615317, -0.208333906522747], [-0.0807537893706287, -0.191242806165891], [-0.0705253471756030, -0.167190778175323], [-0.130923467005501, -0.309216048595569], [-0.0998696528380298, -0.236193471615748], [-0.102678996156398, -0.242799600177667], [-0.0919880190873448, -0.217659928387135], [-0.0672322375676767, -0.159447080459128], [-0.0685902848294425, -0.162640508170768], [-0.0647114829888416, -0.153519563977979], [-0.0742149441199664, -0.175866809900164], [-0.0705585507297405, -0.167268855833511], [-0.0711751920131704, -0.168718878537497], [-0.0945382544172990, -0.223656768411164], [-0.0998641663309501, -0.236180570176865], [-0.113833940895126, -0.269030284965583], [-0.112091801893658, -0.264933671304593], [-0.0751663936582581, -0.178104129180096], [-0.0880584448795677, -0.208419593736524], [-0.110271103983162, -0.260652327550517], [-0.115640404060781, -0.273278155931250], [-0.101301750216495, -0.239561027063128], [-0.0884721431882334, -0.209392399087520], [-0.117517650469718, -0.277692472628950], [-0.0741130154566714, -0.175627126181385], [-0.0848191136978430, -0.200802355180739], [-0.107572456365215, -0.254306498263325], [-0.121171239893960, -0.286283833211760], [-0.0718114871353458, -0.170215116947709], [-0.117076407874087, -0.276654897301406], [-0.107769576562467, -0.254770023442567], [-0.0731669393368734, -0.173402442414227], [-0.109680622392912, -0.259263818971613], [-0.0650573523573579, -0.154332870596330], [-0.0771258282535626, -0.182711710161965], [-0.0703390731846127, -0.166752757686984], [-0.105475371020817, -0.249375233615165], [-0.0835763712842933, -0.197880065085548], [-0.0656934017471652, -0.155828531170574], [-0.0725059976799627, -0.171848248048258], [-0.0999941475957700, -0.236486219166231], [-0.0912250453334009, -0.215865807079508], [-0.117342972986772, -0.277281721154870], [-0.0768515036002433, -0.182066639865401], [-0.0791659597892628, -0.187509048785531], [-0.0739260663495383, -0.175187518167590], [-0.0962450594563760, -0.227670294790995], [-0.112348339277820, -0.265536915105247], [-0.127618879540497, -0.301445360871076], [-0.110447308379339, -0.261066669538094], [-0.0989088369644482, -0.233934127539247], [-0.0691285355048574, -0.163906196538966], [-0.126848514183076, -0.299633858319040], [-0.0803113953891189, -0.190202523371771], [-0.0783356605911219, -0.185556612708418], [-0.104193320737000, -0.246360511654213], [-0.0638095071593476, -0.151398581380223], [-0.0766438881515045, -0.181578435260132], [-0.0730913630723009, -0.173224725964717], [-0.0765523112667449, -0.181363093592894], [-0.0864560812732476, -0.204651659815069], [-0.0949251365025243, -0.224566515816043], [-0.0564400959630348, -0.134069521784626], [-0.0718335750087468, -0.170267056249820], [-0.110433359200459, -0.261033868253747], [-0.125705047422081, -0.296945013427771], [-0.0915363858811241, -0.216597919695061], [-0.106893989553627, -0.252711093759703], [-0.0996135173577668, -0.235591172886069], [-0.0753763118179790, -0.178597748575608], [-0.0970701207949436, -0.229610414120097], [-0.0963583307719323, -0.227936650585978], [-0.0831340754232778, -0.196840013020295], [-0.100717679247266, -0.238187592963143], [-0.0709599943773688, -0.168212844533383], [-0.0814112690912619, -0.192788859840769], [-0.0802446441141656, -0.190045558752627], [-0.113128590101990, -0.267371663183673], [-0.101549171427583, -0.240142834319900], [-0.0983256188990905, -0.232562699029888], [-0.0627127883226899, -0.148819663529966], [-0.0571777603488357, -0.135804128493706], [-0.116480012938894, -0.275252483580805], [-0.0556349543703240, -0.132176243438323], [-0.103309894368509, -0.244283147835030], [-0.123365689348926, -0.291444048101609], [-0.100375484283285, -0.237382926651794], [-0.110683579561760, -0.261622257670147], [-0.0676151587392660, -0.160347513835163], [-0.0955875584788090, -0.226124191130757], [-0.0693824568459581, -0.164503288753704], [-0.114491632682182, -0.270576837311464], [-0.106872671973540, -0.252660965790734], [-0.0662337366957136, -0.157099120675698]]\n"
     ]
    }
   ],
   "source": [
    "print (symbolic_weight_list)"
   ]
  },
  {
   "cell_type": "code",
   "execution_count": 11,
   "metadata": {},
   "outputs": [
    {
     "name": "stdout",
     "output_type": "stream",
     "text": [
      "2.36728778090256 5.61527886753161e-6\n"
     ]
    }
   ],
   "source": [
    "relative_wts = np.array(symbolic_weight_list)[np.argmax(f(X_test), 1) == 0]\n",
    "relative_wts /= relative_wts[:, 0][..., None]\n",
    "print (np.mean(relative_wts[:, 1]), np.var(relative_wts[:, 1]))"
   ]
  },
  {
   "cell_type": "code",
   "execution_count": 12,
   "metadata": {},
   "outputs": [
    {
     "name": "stdout",
     "output_type": "stream",
     "text": [
      "-0.0887248186885018*X0 - 0.208635076765816*X1 + 0.067880524508067*(0.425263191903688*X0 + X1 - 0.672707226224136)**2 + 0.460976862637062\n",
      "-0.0623088684922944*X0 - 0.146518367163095*X1 + 0.0704721914714422*(0.349763006069912*X0 + 0.822462448499717*X1 - 1)**2 + 0.403312690662909\n"
     ]
    }
   ],
   "source": [
    "poly1 = symbolic_model.get_taylor(X_test[0], approx_order=2)\n",
    "poly2 = symbolic_model.get_taylor(X_test[3], approx_order=2)\n",
    "\n",
    "print(poly1)\n",
    "print(poly2)"
   ]
  },
  {
   "cell_type": "code",
   "execution_count": 13,
   "metadata": {},
   "outputs": [
    {
     "data": {
      "text/plain": [
       "[[<pysymbolic.models.special_functions.MeijerG at 0x7f0b673f4290>,\n",
       "  <pysymbolic.models.special_functions.MeijerG at 0x7f0b5bd1fc90>],\n",
       " array([ 0.64768854,  1.52302986, -0.23415337, -0.23413696]),\n",
       " array([ 0.49671415, -0.1382643 ])]"
      ]
     },
     "execution_count": 13,
     "metadata": {},
     "output_type": "execute_result"
    }
   ],
   "source": [
    "symbolic_model.terms_list[-1]"
   ]
  },
  {
   "cell_type": "code",
   "execution_count": 14,
   "metadata": {},
   "outputs": [
    {
     "data": {
      "image/png": "[encoded data removed]",
      "text/latex": [
       "$\\displaystyle 0.51$"
      ],
      "text/plain": [
       "0.51"
      ]
     },
     "execution_count": 14,
     "metadata": {},
     "output_type": "execute_result"
    }
   ],
   "source": [
    "accuracy_score(np.argmax(symbolic_model.predict(X), 1), np.argmax(f(X), 1))"
   ]
  },
  {
   "cell_type": "code",
   "execution_count": 18,
   "metadata": {},
   "outputs": [
    {
     "data": {
      "image/png": "[encoded data removed]",
      "text/latex": [
       "$\\displaystyle \\left[ 0.934422183647926 {G_{2, 3}^{2, 1}\\left(\\begin{matrix} -0.317354501285477 & 0.0370232605987881 \\\\0.0669220115664572, -0.024308822641418 & 0.246642675040737 \\end{matrix} \\middle| {1.0 [ReLU(P1)]} \\right)}, \\  0.974636954452608 {G_{2, 3}^{2, 1}\\left(\\begin{matrix} -0.480709459485193 & 0.0959561270463597 \\\\0.054106638101151, -0.0407141959232525 & 0.195242947928086 \\end{matrix} \\middle| {1.0 [ReLU(P1)]} \\right)}\\right]$"
      ],
      "text/plain": [
       "⎡                  ╭─╮2, 1 ⎛          -0.317354501285477            0.03702326\n",
       "⎢0.934422183647926⋅│╶┐     ⎜                                                  \n",
       "⎣                  ╰─╯2, 3 ⎝0.0669220115664572, -0.024308822641418  0.24664267\n",
       "\n",
       "05987881 │               ⎞                    ╭─╮2, 1 ⎛          -0.4807094594\n",
       "         │ 1.0⋅[ReLU(P1)]⎟, 0.974636954452608⋅│╶┐     ⎜                       \n",
       "5040737  │               ⎠                    ╰─╯2, 3 ⎝0.054106638101151, -0.0\n",
       "\n",
       "85193            0.0959561270463597 │               ⎞⎤\n",
       "                                    │ 1.0⋅[ReLU(P1)]⎟⎥\n",
       "407141959232525  0.195242947928086  │               ⎠⎦"
      ]
     },
     "execution_count": 18,
     "metadata": {},
     "output_type": "execute_result"
    }
   ],
   "source": [
    "symbolic_model.get_expression()"
   ]
  },
  {
   "cell_type": "code",
   "execution_count": null,
   "metadata": {},
   "outputs": [],
   "source": []
  },
  {
   "cell_type": "code",
   "execution_count": null,
   "metadata": {},
   "outputs": [],
   "source": []
  },
  {
   "cell_type": "code",
   "execution_count": null,
   "metadata": {},
   "outputs": [],
   "source": []
  },
  {
   "cell_type": "code",
   "execution_count": null,
   "metadata": {},
   "outputs": [],
   "source": []
  },
  {
   "cell_type": "code",
   "execution_count": null,
   "metadata": {},
   "outputs": [],
   "source": [
    "def order_weights(exp_list):\n",
    "    ordered_weights = [0 for _ in range(dim_X)]\n",
    "    for tup in exp_list:\n",
    "        feature_id = int(tup[0].split('x_')[1][0])\n",
    "        ordered_weights[feature_id-1] = tup[1]    \n",
    "    return ordered_weights   "
   ]
  },
  {
   "cell_type": "code",
   "execution_count": null,
   "metadata": {},
   "outputs": [],
   "source": [
    "lime_weight_list = []\n",
    "explainer = lime.lime_tabular.LimeTabularExplainer(X, \n",
    "                                                   feature_names=[\"x_\"+str(k) for k in range(1,dim_X+1)], \n",
    "                                                   class_names=['f'], \n",
    "                                                   verbose=False,\n",
    "                                                   mode='classification')\n",
    "\n",
    "for i in range(n_test):\n",
    "    exp = explainer.explain_instance(X_test[i], f, num_features=dim_X)\n",
    "    lime_weight_list.append(order_weights(exp.as_list()))  \n",
    "                            \n",
    "print(lime_weight_list) "
   ]
  },
  {
   "cell_type": "code",
   "execution_count": null,
   "metadata": {},
   "outputs": [],
   "source": [
    "relative_wts = np.array(lime_weight_list)\n",
    "relative_wts /= relative_wts[:, 0][..., None]\n",
    "print (np.mean(relative_wts[:, 1]), np.var(relative_wts[:, 1]))"
   ]
  },
  {
   "cell_type": "code",
   "execution_count": null,
   "metadata": {},
   "outputs": [],
   "source": []
  },
  {
   "cell_type": "code",
   "execution_count": null,
   "metadata": {},
   "outputs": [],
   "source": []
  },
  {
   "cell_type": "code",
   "execution_count": null,
   "metadata": {},
   "outputs": [],
   "source": [
    "-0.226189134146166*x - 0.531420765229984*y + 0.273326146443558*(0.425630966919929*x + y - 0.588740172455506)^2 + 0.640502858076188 = 0"
   ]
  }
 ],
 "metadata": {
  "kernelspec": {
   "display_name": "Python 3",
   "language": "python",
   "name": "python3"
  },
  "language_info": {
   "codemirror_mode": {
    "name": "ipython",
    "version": 3
   },
   "file_extension": ".py",
   "mimetype": "text/x-python",
   "name": "python",
   "nbconvert_exporter": "python",
   "pygments_lexer": "ipython3",
   "version": "3.7.7"
  }
 },
 "nbformat": 4,
 "nbformat_minor": 4
}

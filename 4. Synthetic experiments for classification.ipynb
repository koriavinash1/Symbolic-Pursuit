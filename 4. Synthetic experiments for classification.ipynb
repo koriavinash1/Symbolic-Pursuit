{
 "cells": [
  {
   "cell_type": "code",
   "execution_count": 1,
   "metadata": {},
   "outputs": [],
   "source": [
    "# ipython settings\n",
    "%load_ext autoreload\n",
    "%autoreload 2\n",
    "import warnings\n",
    "\n",
    "warnings.filterwarnings('ignore')"
   ]
  },
  {
   "cell_type": "code",
   "execution_count": 2,
   "metadata": {},
   "outputs": [],
   "source": [
    "from sklearn.metrics import mean_squared_error # we are going to assess the quality of the model based on the generalization MSE\n",
    "from sklearn.metrics import accuracy_score\n",
    "from sympy import init_printing # We use sympy to display mathematical expresssions \n",
    "import numpy as np # we use numpy to deal with arrays\n",
    "import lime \n",
    "import lime.lime_tabular\n",
    "init_printing()"
   ]
  },
  {
   "cell_type": "code",
   "execution_count": 3,
   "metadata": {},
   "outputs": [],
   "source": [
    "def f(X):\n",
    "    X = np.array(X)\n",
    "    Y = np.zeros((X.shape[0], 2))\n",
    "    radius = 0.4**2\n",
    "    margin = 0.01\n",
    "    center = (0.5, 0.5)\n",
    "        \n",
    "    Y[(X[:, 0] - center[0]) **2 + (X[:, 1] - center[1]) **2 <= radius - margin, 0] = 1.\n",
    "    Y[(X[:, 0] - center[0]) **2 + (X[:, 1] - center[1]) **2 <= radius - margin, 1] = 0.\n",
    "    \n",
    "    Y[(radius - margin < (X[:, 0] - center[0]) **2 + (X[:, 1] - center[1]) **2) *\\\n",
    "          ((X[:, 0] - center[0]) **2 + (X[:, 1] - center[1]) **2 <= radius), 0] = .75\n",
    "    Y[(radius - margin < (X[:, 0] - center[0]) **2 + (X[:, 1] - center[1]) **2) *\\\n",
    "          ((X[:, 0] - center[0]) **2 + (X[:, 1] - center[1]) **2 <= radius), 1] = .25\n",
    "    \n",
    "\n",
    "    Y[(radius < (X[:, 0] - center[0])**2 + (X[:, 1] - center[1])**2) *\\\n",
    "          ((X[:, 0] - center[0])**2 + (X[:, 1] - center[1])**2 <= radius + margin), 0] = .25\n",
    "    Y[(radius < (X[:, 0] - center[0])**2 + (X[:, 1] - center[1])**2) *\\\n",
    "          ((X[:, 0] - center[0])**2 + (X[:, 1] - center[1])**2 <= radius + margin), 1] = .75\n",
    "    \n",
    "    Y[(X[:, 0] - center[0])**2 + (X[:, 1] - center[1])**2 > (radius + margin), 0] = 0.\n",
    "    Y[(X[:, 0] - center[0])**2 + (X[:, 1] - center[1])**2 > (radius + margin), 1] = 1.\n",
    "    \n",
    "    return Y\n",
    "\n",
    "dim_X = 2"
   ]
  },
  {
   "cell_type": "code",
   "execution_count": 4,
   "metadata": {},
   "outputs": [],
   "source": [
    "n_pts = 100\n",
    "X = np.random.uniform(0, 1, (n_pts, dim_X))"
   ]
  },
  {
   "cell_type": "code",
   "execution_count": 5,
   "metadata": {},
   "outputs": [
    {
     "data": {
      "image/png": "[encoded data removed]",
      "text/plain": [
       "<Figure size 432x288 with 1 Axes>"
      ]
     },
     "metadata": {
      "needs_background": "light"
     },
     "output_type": "display_data"
    }
   ],
   "source": [
    "import matplotlib.pyplot as plt\n",
    "y = f(X)\n",
    "figure, ax = plt.subplots()\n",
    "ax.set_aspect(1)\n",
    "circle = plt.Circle((0.5, 0.5), 0.4, color='g', fill=False)\n",
    "ax.add_artist(circle)\n",
    "ax.scatter(X[:, 0][y[:, 0] > 0.75], X[:, 1][y[:, 0] > 0.75], c='r')\n",
    "ax.scatter(X[:, 0][y[:, 1] > 0.75], X[:, 1][y[:, 1] > 0.75], c='b')\n",
    "\n",
    "plt.savefig(\"syndata.png\")\n",
    "plt.show()\n"
   ]
  },
  {
   "cell_type": "code",
   "execution_count": 53,
   "metadata": {},
   "outputs": [],
   "source": [
    "n_test = 10\n",
    "X_test = np.random.uniform(0, 1, (n_test, dim_X))"
   ]
  },
  {
   "cell_type": "code",
   "execution_count": 54,
   "metadata": {},
   "outputs": [
    {
     "data": {
      "text/plain": [
       "<Figure size 432x288 with 0 Axes>"
      ]
     },
     "metadata": {},
     "output_type": "display_data"
    },
    {
     "data": {
      "image/png": "[encoded data removed]",
      "text/plain": [
       "<Figure size 432x288 with 1 Axes>"
      ]
     },
     "metadata": {
      "needs_background": "light"
     },
     "output_type": "display_data"
    }
   ],
   "source": [
    "import matplotlib.pyplot as plt\n",
    "y_ = f(X_test)\n",
    "plt.clf()\n",
    "figure, ax = plt.subplots()\n",
    "ax.set_aspect(1)\n",
    "circle = plt.Circle((0.5, 0.5), 0.4, color='g', fill=False)\n",
    "ax.add_artist(circle)\n",
    "ax.scatter(X_test[:, 0][y_[:, 0] > 0.75], X_test[:, 1][y_[:, 0] > 0.75], c='r')\n",
    "ax.scatter(X_test[:, 0][y_[:, 1] > 0.75], X_test[:, 1][y_[:, 1] > 0.75], c='b')\n",
    "plt.show()"
   ]
  },
  {
   "cell_type": "code",
   "execution_count": 34,
   "metadata": {},
   "outputs": [
    {
     "name": "stdout",
     "output_type": "stream",
     "text": [
      "Model created with the following hyperparameters :\n",
      " loss_tol=0.1 \n",
      " ratio_tol=0.9 \n",
      " maxiter=20 \n",
      " eps=0.001 \n",
      " random_seed=42\n",
      "%%%%%%%%%%%%%%%%%%%%%%%%%%%%%%%%%%%%%%%%%%%%%%%%%%%%%%%%%%%%%%%%%%%%%%%%%%%%%%%%%%%%%%%%%%%%%%%%%%%%\n",
      "Now working on term number  1 .\n",
      "====================================================================================================\n",
      "Now working on hyperparameter tree number  1 .\n",
      "Optimization terminated successfully.\n",
      "         Current function value: 0.680201\n",
      "         Iterations: 0\n",
      "         Function evaluations: 12\n",
      "         Gradient evaluations: 1\n",
      "====================================================================================================\n",
      "Now working on hyperparameter tree number  2 .\n",
      "Optimization terminated successfully.\n",
      "         Current function value: 0.679978\n",
      "         Iterations: 0\n",
      "         Function evaluations: 16\n",
      "         Gradient evaluations: 1\n",
      "====================================================================================================\n",
      "Now working on hyperparameter tree number  3 .\n",
      "Warning: Desired error not necessarily achieved due to precision loss.\n",
      "         Current function value: 0.670023\n",
      "         Iterations: 1\n",
      "         Function evaluations: 1722\n",
      "         Gradient evaluations: 95\n",
      "====================================================================================================\n",
      "The tree number  3  was selected as the best.\n",
      "====================================================================================================\n",
      "Backfitting complete.\n",
      "====================================================================================================\n",
      "====================================================================================================\n",
      "The current model has the following expression:  [0.948686616827376*meijerg(((-0.351052544138729,), (-0.0524310146509606,)), ((0.0931373733666515, -0.0108947012292994), (0.245118404491246,)), 1.0*[ReLU(P1)]), 0.98698370128782*meijerg(((-0.448371491152369,), (0.0949583940654728,)), ((0.0900151734482055, -0.01350432289961), (0.218557933160878,)), 1.0*[ReLU(P1)])]\n",
      "The current value of the loss is:  0.6700230126518223 .\n",
      "%%%%%%%%%%%%%%%%%%%%%%%%%%%%%%%%%%%%%%%%%%%%%%%%%%%%%%%%%%%%%%%%%%%%%%%%%%%%%%%%%%%%%%%%%%%%%%%%%%%%\n",
      "Now working on term number  2 .\n",
      "====================================================================================================\n",
      "Now working on hyperparameter tree number  1 .\n",
      "Optimization terminated successfully.\n",
      "         Current function value: 0.652968\n",
      "         Iterations: 0\n",
      "         Function evaluations: 12\n",
      "         Gradient evaluations: 1\n",
      "====================================================================================================\n",
      "Now working on hyperparameter tree number  2 .\n",
      "Warning: Desired error not necessarily achieved due to precision loss.\n",
      "         Current function value: 0.653989\n",
      "         Iterations: 0\n",
      "         Function evaluations: 1628\n",
      "         Gradient evaluations: 101\n",
      "====================================================================================================\n",
      "Now working on hyperparameter tree number  3 .\n",
      "Warning: Desired error not necessarily achieved due to precision loss.\n",
      "         Current function value: 0.644629\n",
      "         Iterations: 1\n",
      "         Function evaluations: 1452\n",
      "         Gradient evaluations: 80\n",
      "====================================================================================================\n",
      "The algorithm stopped because it was unable to find a term that significantly decreases the loss.\n",
      "----------------------------------------------------------------------------------------------------\n",
      "----------------------------------------------------------------------------------------------------\n",
      "The final model has the following expression:\n",
      "[0.948686616827376*meijerg(((-0.351052544138729,), (-0.0524310146509606,)), ((0.0931373733666515, -0.0108947012292994), (0.245118404491246,)), 1.0*[ReLU(P1)]), 0.98698370128782*meijerg(((-0.448371491152369,), (0.0949583940654728,)), ((0.0900151734482055, -0.01350432289961), (0.218557933160878,)), 1.0*[ReLU(P1)])]\n",
      "expression for class 0\n",
      "P1 =  0.498125080721221*X1 - 0.13470851581181*X2\n",
      "expression for class 1\n",
      "P2 =  0.648222502220842*X1 + 1.52296837542553*X2\n",
      "The number of terms inside the expansion is 1 .\n",
      "The current loss is 0.6700230126518223 .\n",
      "----------------------------------------------------------------------------------------------------\n"
     ]
    }
   ],
   "source": [
    "from symbolic_pursuit.classification import SymbolicClassifier  # our symbolic model class\n",
    "\n",
    "symbolic_model = SymbolicClassifier(verbosity=True,\n",
    "                                    maxiter=20,\n",
    "                                    nclasses=2,\n",
    "                                   loss_tol = 0.1)\n",
    "symbolic_model.fit(f, X, nmax=1)"
   ]
  },
  {
   "cell_type": "code",
   "execution_count": 35,
   "metadata": {},
   "outputs": [],
   "source": [
    "symbolic_weight_list = [] \n",
    "for k in range(n_test):\n",
    "    symbolic_weight_list.append(symbolic_model.get_feature_importance(X_test[k]))"
   ]
  },
  {
   "cell_type": "code",
   "execution_count": 36,
   "metadata": {},
   "outputs": [
    {
     "name": "stdout",
     "output_type": "stream",
     "text": [
      "[[-0.576554806164241, -0.576554806164241], [-0.633513679889680, -0.633513679889680], [-0.459108436125776, -0.459108436125777], [-0.360672646744055, -0.360672646744055], [-0.365247774421318, 0.367247774421318], [-0.522421332745562, -0.522421332745562], [-0.299486283005401, -0.299486283005401], [-0.314684796800806, -0.314684796800806], [-0.517283066705361, -0.517283066705361], [-0.333850611906933, 0.335850611906933]]\n"
     ]
    }
   ],
   "source": [
    "print (symbolic_weight_list)"
   ]
  },
  {
   "cell_type": "code",
   "execution_count": 37,
   "metadata": {},
   "outputs": [
    {
     "name": "stdout",
     "output_type": "stream",
     "text": [
      "1.00000000000000 9.86076131526265e-33\n"
     ]
    }
   ],
   "source": [
    "relative_wts = np.array(symbolic_weight_list)[np.argmax(f(X_test), 1) == 0]\n",
    "relative_wts /= relative_wts[:, 0][..., None]\n",
    "print (np.mean(relative_wts[:, 1]), np.var(relative_wts[:, 1]))"
   ]
  },
  {
   "cell_type": "code",
   "execution_count": 38,
   "metadata": {},
   "outputs": [
    {
     "name": "stdout",
     "output_type": "stream",
     "text": [
      "-0.226189134146166*X0 - 0.531420765229984*X1 + 0.273326146443558*(0.425630966919929*X0 + X1 - 0.588740172455506)**2 + 0.640502858076188\n",
      "-0.141642701157138*X0 - 0.33278288509441*X1 + 0.1899755938056*(0.40860255436501*X0 + 0.959992543122168*X1 - 1)**2 + 0.481888761468432\n"
     ]
    }
   ],
   "source": [
    "poly1 = symbolic_model.get_taylor(X_test[0], approx_order=2)\n",
    "poly2 = symbolic_model.get_taylor(X_test[3], approx_order=2)\n",
    "\n",
    "print(poly1)\n",
    "print(poly2)"
   ]
  },
  {
   "cell_type": "code",
   "execution_count": 39,
   "metadata": {},
   "outputs": [
    {
     "data": {
      "text/plain": [
       "[[<pysymbolic.models.special_functions.MeijerG at 0x7fcb97827f10>,\n",
       "  <pysymbolic.models.special_functions.MeijerG at 0x7fcb96b47110>],\n",
       " array([ 0.49812508, -0.13470852,  0.6482225 ,  1.52296838]),\n",
       " array([0.94868662, 0.9869837 ])]"
      ]
     },
     "execution_count": 39,
     "metadata": {},
     "output_type": "execute_result"
    }
   ],
   "source": [
    "symbolic_model.terms_list[-1]"
   ]
  },
  {
   "cell_type": "code",
   "execution_count": 55,
   "metadata": {},
   "outputs": [
    {
     "data": {
      "image/png": "[encoded data removed]",
      "text/latex": [
       "$\\displaystyle 0.9$"
      ],
      "text/plain": [
       "0.9"
      ]
     },
     "execution_count": 55,
     "metadata": {},
     "output_type": "execute_result"
    }
   ],
   "source": [
    "accuracy_score(np.argmax(symbolic_model.predict(X_test), 1), np.argmax(f(X_test), 1))"
   ]
  },
  {
   "cell_type": "code",
   "execution_count": 41,
   "metadata": {},
   "outputs": [
    {
     "data": {
      "image/png": "[encoded data removed]",
      "text/latex": [
       "$\\displaystyle \\left[ 0.948686616827376 {G_{2, 3}^{2, 1}\\left(\\begin{matrix} -0.351052544138729 & -0.0524310146509606 \\\\0.0931373733666515, -0.0108947012292994 & 0.245118404491246 \\end{matrix} \\middle| {1.0 [ReLU(P1)]} \\right)}, \\  0.98698370128782 {G_{2, 3}^{2, 1}\\left(\\begin{matrix} -0.448371491152369 & 0.0949583940654728 \\\\0.0900151734482055, -0.01350432289961 & 0.218557933160878 \\end{matrix} \\middle| {1.0 [ReLU(P1)]} \\right)}\\right]$"
      ],
      "text/plain": [
       "⎡                  ╭─╮2, 1 ⎛          -0.351052544138729             -0.052431\n",
       "⎢0.948686616827376⋅│╶┐     ⎜                                                  \n",
       "⎣                  ╰─╯2, 3 ⎝0.0931373733666515, -0.0108947012292994   0.245118\n",
       "\n",
       "0146509606 │               ⎞                   ╭─╮2, 1 ⎛         -0.4483714911\n",
       "           │ 1.0⋅[ReLU(P1)]⎟, 0.98698370128782⋅│╶┐     ⎜                      \n",
       "404491246  │               ⎠                   ╰─╯2, 3 ⎝0.0900151734482055, -0\n",
       "\n",
       "52369            0.0949583940654728 │               ⎞⎤\n",
       "                                    │ 1.0⋅[ReLU(P1)]⎟⎥\n",
       ".01350432289961  0.218557933160878  │               ⎠⎦"
      ]
     },
     "execution_count": 41,
     "metadata": {},
     "output_type": "execute_result"
    }
   ],
   "source": [
    "symbolic_model.get_expression()"
   ]
  },
  {
   "cell_type": "code",
   "execution_count": null,
   "metadata": {},
   "outputs": [],
   "source": []
  },
  {
   "cell_type": "code",
   "execution_count": null,
   "metadata": {},
   "outputs": [],
   "source": []
  },
  {
   "cell_type": "code",
   "execution_count": null,
   "metadata": {},
   "outputs": [],
   "source": []
  },
  {
   "cell_type": "code",
   "execution_count": null,
   "metadata": {},
   "outputs": [],
   "source": []
  },
  {
   "cell_type": "code",
   "execution_count": null,
   "metadata": {},
   "outputs": [],
   "source": [
    "def order_weights(exp_list):\n",
    "    ordered_weights = [0 for _ in range(dim_X)]\n",
    "    for tup in exp_list:\n",
    "        feature_id = int(tup[0].split('x_')[1][0])\n",
    "        ordered_weights[feature_id-1] = tup[1]    \n",
    "    return ordered_weights   "
   ]
  },
  {
   "cell_type": "code",
   "execution_count": null,
   "metadata": {},
   "outputs": [],
   "source": [
    "lime_weight_list = []\n",
    "explainer = lime.lime_tabular.LimeTabularExplainer(X, \n",
    "                                                   feature_names=[\"x_\"+str(k) for k in range(1,dim_X+1)], \n",
    "                                                   class_names=['f'], \n",
    "                                                   verbose=False,\n",
    "                                                   mode='classification')\n",
    "\n",
    "for i in range(n_test):\n",
    "    exp = explainer.explain_instance(X_test[i], f, num_features=dim_X)\n",
    "    lime_weight_list.append(order_weights(exp.as_list()))  \n",
    "                            \n",
    "print(lime_weight_list) "
   ]
  },
  {
   "cell_type": "code",
   "execution_count": null,
   "metadata": {},
   "outputs": [],
   "source": [
    "relative_wts = np.array(lime_weight_list)\n",
    "relative_wts /= relative_wts[:, 0][..., None]\n",
    "print (np.mean(relative_wts[:, 1]), np.var(relative_wts[:, 1]))"
   ]
  },
  {
   "cell_type": "code",
   "execution_count": null,
   "metadata": {},
   "outputs": [],
   "source": []
  },
  {
   "cell_type": "code",
   "execution_count": null,
   "metadata": {},
   "outputs": [],
   "source": []
  },
  {
   "cell_type": "code",
   "execution_count": null,
   "metadata": {},
   "outputs": [],
   "source": [
    "-0.226189134146166*x - 0.531420765229984*y + 0.273326146443558*(0.425630966919929*x + y - 0.588740172455506)^2 + 0.640502858076188 = 0"
   ]
  }
 ],
 "metadata": {
  "kernelspec": {
   "display_name": "Python 3",
   "language": "python",
   "name": "python3"
  },
  "language_info": {
   "codemirror_mode": {
    "name": "ipython",
    "version": 3
   },
   "file_extension": ".py",
   "mimetype": "text/x-python",
   "name": "python",
   "nbconvert_exporter": "python",
   "pygments_lexer": "ipython3",
   "version": "3.7.7"
  }
 },
 "nbformat": 4,
 "nbformat_minor": 4
}

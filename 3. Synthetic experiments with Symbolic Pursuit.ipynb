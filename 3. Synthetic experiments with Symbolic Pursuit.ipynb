{
 "cells": [
  {
   "cell_type": "code",
   "execution_count": 1,
   "metadata": {},
   "outputs": [],
   "source": [
    "# ipython settings\n",
    "%load_ext autoreload\n",
    "%autoreload 2\n",
    "import warnings\n",
    "\n",
    "warnings.filterwarnings('ignore')"
   ]
  },
  {
   "cell_type": "markdown",
   "metadata": {},
   "source": [
    "# 3. Synthetic experiments with Symbolic Pursuit"
   ]
  },
  {
   "cell_type": "markdown",
   "metadata": {},
   "source": [
    "In this notebook, we shall reproduce one of the experiments from Section 6.1 of the paper.\n",
    "The idea is to start with a linear pseudo black-box for which the importance vector is known unambiguously and see which interpretability methods identifies this vector the most precisely. Let us start by the useful imports.\n"
   ]
  },
  {
   "cell_type": "code",
   "execution_count": 2,
   "metadata": {},
   "outputs": [],
   "source": [
    "from symbolic_pursuit.models import SymbolicRegressor  # our symbolic model class\n",
    "from sklearn.metrics import mean_squared_error # we are going to assess the quality of the model based on the generalization MSE\n",
    "from sympy import init_printing # We use sympy to display mathematical expresssions \n",
    "import numpy as np # we use numpy to deal with arrays\n",
    "import lime \n",
    "import lime.lime_tabular\n",
    "init_printing()"
   ]
  },
  {
   "cell_type": "markdown",
   "metadata": {},
   "source": [
    "We now define a linear pseudo black-box $f$ defined on a 3 dimensional feature space.\n",
    "\n",
    "$$ f(x_1,x_2,x_3)= x_1 + 2 \\cdot x_2 + 3 \\cdot x_3$$ \n",
    "\n",
    "The importance vector associated to this model is trivially given by $\\beta = (1,2,3)$ In this case, we shall keep it unnormalised, unlike in the main paper as we deal with few examples. Let us translate this in Python. "
   ]
  },
  {
   "cell_type": "code",
   "execution_count": 3,
   "metadata": {},
   "outputs": [],
   "source": [
    "def f(X):\n",
    "    return X[:, 0]+2*X[:,1]+3*X[:,2]\n",
    "\n",
    "dim_X = 3"
   ]
  },
  {
   "cell_type": "markdown",
   "metadata": {},
   "source": [
    "Now draw uniformly 100 test points  that we will feed to a *LIME* explainer <cite data-cite=\"2480681/WCEBQ7N9\"></cite> and to train a Symbolic model."
   ]
  },
  {
   "cell_type": "code",
   "execution_count": 4,
   "metadata": {},
   "outputs": [],
   "source": [
    "n_pts = 100\n",
    "X = np.random.uniform(0, 1, (n_pts, dim_X))"
   ]
  },
  {
   "cell_type": "markdown",
   "metadata": {},
   "source": [
    "Now we draw 10 test ponits $x_{test} \\equiv U([0,1]^3)$ that we are going to use in order to evaluate the perfomances of both explainers on unseen data."
   ]
  },
  {
   "cell_type": "code",
   "execution_count": 5,
   "metadata": {},
   "outputs": [],
   "source": [
    "n_test = 10\n",
    "X_test = np.random.uniform(0, 1, (n_test, dim_X))"
   ]
  },
  {
   "cell_type": "markdown",
   "metadata": {},
   "source": [
    "Since LIME produces importance vectors with entries in the form $(feature \\ domain , importance)$ for each feature appearing in decreasing order of importance, we implement a function which identifies the feature from the first entry of the tuple and who sorts the importances in the form $(importance(x_1), importance(x_2), importance(x_3))$."
   ]
  },
  {
   "cell_type": "code",
   "execution_count": 6,
   "metadata": {},
   "outputs": [],
   "source": [
    "def order_weights(exp_list):\n",
    "    ordered_weights = [0 for _ in range(dim_X)]\n",
    "    for tup in exp_list:\n",
    "        feature_id = int(tup[0].split('x_')[1][0])\n",
    "        ordered_weights[feature_id-1] = tup[1]    \n",
    "    return ordered_weights    "
   ]
  },
  {
   "cell_type": "markdown",
   "metadata": {},
   "source": [
    "We are now ready to extract the feature importance for our 10 test points as predicted by the LIME explainer :"
   ]
  },
  {
   "cell_type": "code",
   "execution_count": 7,
   "metadata": {},
   "outputs": [
    {
     "name": "stdout",
     "output_type": "stream",
     "text": [
      "Intercept 2.9633864824154013\n",
      "Prediction_local [3.01912861]\n",
      "Right: 3.2696169075607773\n",
      "Intercept 2.980957806196677\n",
      "Prediction_local [3.00064701]\n",
      "Right: 2.9004087168145474\n",
      "Intercept 2.983420551028581\n",
      "Prediction_local [2.93887354]\n",
      "Right: 3.032114925664124\n",
      "Intercept 3.227093690455886\n",
      "Prediction_local [2.20298927]\n",
      "Right: 2.02904679760283\n",
      "Intercept 2.3159003893474313\n",
      "Prediction_local [4.91384487]\n",
      "Right: 4.567985336594555\n",
      "Intercept 2.3748488012536297\n",
      "Prediction_local [4.7186416]\n",
      "Right: 4.332309728908863\n",
      "Intercept 3.0287982351952523\n",
      "Prediction_local [2.73081149]\n",
      "Right: 2.486540644428578\n",
      "Intercept 3.4568743142026808\n",
      "Prediction_local [1.49995776]\n",
      "Right: 1.6580632721932194\n",
      "Intercept 3.310784896190186\n",
      "Prediction_local [1.9837895]\n",
      "Right: 2.3155798648957977\n",
      "Intercept 2.8887678816610647\n",
      "Prediction_local [3.21240778]\n",
      "Right: 3.4458320426771762\n",
      "[[0.4988391438716656, -0.9786651392748903, 0.5355681243471734], [-0.4700395362925193, -0.979077727873307, 1.4688064648534784], [-0.4621630629088637, 0.9543166727774592, -0.5367006256713239], [-0.1309010134249909, -0.3396559350037348, -0.5535474719088567], [0.11510745577718856, 0.9987761369042787, 1.4840608880778756], [-0.17867690287864194, 1.0266943532268866, 1.4957753506142222], [-0.4576438948239933, -0.3989104258246932, 0.5585675766968429], [-0.40931948125900713, -1.0090999689180988, -0.5384971041851243], [-0.45462653959467236, -0.31610862974514414, -0.5562602244423895], [-0.12718275785817254, 0.9720057731246171, -0.5211831176906444]]\n"
     ]
    }
   ],
   "source": [
    "lime_weight_list = []\n",
    "explainer = lime.lime_tabular.LimeTabularExplainer(X, \n",
    "                                                   feature_names=[\"x_\"+str(k) for k in range(1,dim_X+1)], \n",
    "                                                   class_names=['f'], \n",
    "                                                   verbose=True,\n",
    "                                                   mode='regression')\n",
    "\n",
    "for i in range(n_test):\n",
    "    exp = explainer.explain_instance(X_test[i], f, num_features=dim_X)\n",
    "    lime_weight_list.append(order_weights(exp.as_list()))  \n",
    "                            \n",
    "print(lime_weight_list)    "
   ]
  },
  {
   "cell_type": "markdown",
   "metadata": {},
   "source": [
    "As we can see from the last output, which is the list of predicted importance vectors, LIME seems to produce a big variety of importance vectors. This is suprising for a global linear model. We also note that the relative importance seem inconsistent with the true importance vector $\\beta$ defined above. Let us now train a Symbolic model for $f$ based on our training set."
   ]
  },
  {
   "cell_type": "code",
   "execution_count": 8,
   "metadata": {},
   "outputs": [
    {
     "name": "stdout",
     "output_type": "stream",
     "text": [
      "Model created with the following hyperparameters :\n",
      " loss_tol=0.001 \n",
      " ratio_tol=0.9 \n",
      " maxiter=3 \n",
      " eps=0.0001 \n",
      " random_seed=42\n",
      "%%%%%%%%%%%%%%%%%%%%%%%%%%%%%%%%%%%%%%%%%%%%%%%%%%%%%%%%%%%%%%%%%%%%%%%%%%%%%%%%%%%%%%%%%%%%%%%%%%%%\n",
      "Now working on term number  1 .\n",
      "====================================================================================================\n",
      "Now working on hyperparameter tree number  1 .\n",
      "Warning: Maximum number of iterations has been exceeded.\n",
      "         Current function value: 2.504912\n",
      "         Iterations: 3\n",
      "         Function evaluations: 48\n",
      "         Gradient evaluations: 6\n",
      "====================================================================================================\n",
      "Now working on hyperparameter tree number  2 .\n",
      "Warning: Maximum number of iterations has been exceeded.\n",
      "         Current function value: 1.336307\n",
      "         Iterations: 3\n",
      "         Function evaluations: 70\n",
      "         Gradient evaluations: 7\n",
      "====================================================================================================\n",
      "Now working on hyperparameter tree number  3 .\n",
      "Warning: Maximum number of iterations has been exceeded.\n",
      "         Current function value: 1.020032\n",
      "         Iterations: 3\n",
      "         Function evaluations: 209\n",
      "         Gradient evaluations: 19\n",
      "====================================================================================================\n",
      "The tree number  3  was selected as the best.\n",
      "====================================================================================================\n",
      "Backfitting complete.\n",
      "====================================================================================================\n",
      "====================================================================================================\n",
      "The current model has the following expression:  1.17010410164818*meijerg(((0.831735241075464,), (0.105422258418036,)), ((0.151541980890457, 0.0887956513794994), (-0.0899279401077967,)), 1.0*[ReLU(P1)])\n",
      "The current value of the loss is:  1.020032151410823 .\n",
      "%%%%%%%%%%%%%%%%%%%%%%%%%%%%%%%%%%%%%%%%%%%%%%%%%%%%%%%%%%%%%%%%%%%%%%%%%%%%%%%%%%%%%%%%%%%%%%%%%%%%\n",
      "Now working on term number  2 .\n",
      "====================================================================================================\n",
      "Now working on hyperparameter tree number  1 .\n",
      "Warning: Maximum number of iterations has been exceeded.\n",
      "         Current function value: 0.848583\n",
      "         Iterations: 3\n",
      "         Function evaluations: 72\n",
      "         Gradient evaluations: 9\n",
      "====================================================================================================\n",
      "Now working on hyperparameter tree number  2 .\n",
      "Warning: Maximum number of iterations has been exceeded.\n",
      "         Current function value: 0.670716\n",
      "         Iterations: 3\n",
      "         Function evaluations: 70\n",
      "         Gradient evaluations: 7\n",
      "====================================================================================================\n",
      "Now working on hyperparameter tree number  3 .\n",
      "Warning: Maximum number of iterations has been exceeded.\n",
      "         Current function value: 0.839536\n",
      "         Iterations: 3\n",
      "         Function evaluations: 77\n",
      "         Gradient evaluations: 7\n",
      "====================================================================================================\n",
      "The tree number  2  was selected as the best.\n",
      "====================================================================================================\n",
      "Now backfitting term number  1 .\n",
      "Warning: Maximum number of iterations has been exceeded.\n",
      "         Current function value: 0.634062\n",
      "         Iterations: 3\n",
      "         Function evaluations: 102\n",
      "         Gradient evaluations: 9\n",
      "====================================================================================================\n",
      "Backfitting complete.\n",
      "====================================================================================================\n",
      "====================================================================================================\n",
      "The current model has the following expression:  1.14076630937207*[ReLU(P2)]**1.07830521118038*hyper((-0.265166767239513,), (0.975915200042642, 0.975915200042642), 1.0/[ReLU(P2)]) + 1.17305625537584*meijerg(((0.849739453692926,), (0.098324681180422,)), ((0.157104042927287, 0.0970060805299779), (-0.0923968175577532,)), 1.0*[ReLU(P1)])\n",
      "The current value of the loss is:  0.6340616741912093 .\n",
      "%%%%%%%%%%%%%%%%%%%%%%%%%%%%%%%%%%%%%%%%%%%%%%%%%%%%%%%%%%%%%%%%%%%%%%%%%%%%%%%%%%%%%%%%%%%%%%%%%%%%\n",
      "Now working on term number  3 .\n",
      "====================================================================================================\n",
      "Now working on hyperparameter tree number  1 .\n",
      "Warning: Maximum number of iterations has been exceeded.\n",
      "         Current function value: 0.479499\n",
      "         Iterations: 3\n",
      "         Function evaluations: 64\n",
      "         Gradient evaluations: 8\n",
      "====================================================================================================\n",
      "Now working on hyperparameter tree number  2 .\n",
      "Warning: Maximum number of iterations has been exceeded.\n",
      "         Current function value: 0.463270\n",
      "         Iterations: 3\n",
      "         Function evaluations: 70\n",
      "         Gradient evaluations: 7\n",
      "====================================================================================================\n",
      "Now working on hyperparameter tree number  3 .\n",
      "Warning: Maximum number of iterations has been exceeded.\n",
      "         Current function value: 0.542608\n",
      "         Iterations: 3\n",
      "         Function evaluations: 66\n",
      "         Gradient evaluations: 6\n",
      "====================================================================================================\n",
      "The tree number  2  was selected as the best.\n",
      "====================================================================================================\n",
      "Now backfitting term number  1 .\n",
      "Warning: Maximum number of iterations has been exceeded.\n",
      "         Current function value: 0.457335\n",
      "         Iterations: 3\n",
      "         Function evaluations: 88\n",
      "         Gradient evaluations: 8\n",
      "====================================================================================================\n",
      "Now backfitting term number  2 .\n",
      "Warning: Maximum number of iterations has been exceeded.\n",
      "         Current function value: 0.146315\n",
      "         Iterations: 3\n",
      "         Function evaluations: 90\n",
      "         Gradient evaluations: 9\n",
      "====================================================================================================\n",
      "Backfitting complete.\n",
      "====================================================================================================\n",
      "====================================================================================================\n",
      "The current model has the following expression:  2.08023099402987*[ReLU(P2)]**0.868090133004533*hyper((-0.418896939759376,), (1.29355026728102, 1.29355026728102), 1.0/[ReLU(P2)]) + 0.921574812320634*[ReLU(P3)]**1.12936044530641*hyper((-0.219733261292602,), (0.883741310479706, 0.883741310479706), 1.0/[ReLU(P3)]) + 1.17303322706205*meijerg(((0.85037073201156,), (0.096651162516501,)), ((0.158540221868571, 0.0987292604734501), (-0.0925661406368119,)), 1.0*[ReLU(P1)])\n",
      "The current value of the loss is:  0.14631472164058065 .\n",
      "%%%%%%%%%%%%%%%%%%%%%%%%%%%%%%%%%%%%%%%%%%%%%%%%%%%%%%%%%%%%%%%%%%%%%%%%%%%%%%%%%%%%%%%%%%%%%%%%%%%%\n",
      "Now working on term number  4 .\n",
      "====================================================================================================\n",
      "Now working on hyperparameter tree number  1 .\n",
      "Warning: Maximum number of iterations has been exceeded.\n",
      "         Current function value: 0.145241\n",
      "         Iterations: 3\n",
      "         Function evaluations: 56\n",
      "         Gradient evaluations: 7\n",
      "====================================================================================================\n",
      "Now working on hyperparameter tree number  2 .\n",
      "Warning: Maximum number of iterations has been exceeded.\n",
      "         Current function value: 0.176786\n",
      "         Iterations: 3\n",
      "         Function evaluations: 50\n",
      "         Gradient evaluations: 5\n",
      "====================================================================================================\n",
      "Now working on hyperparameter tree number  3 .\n",
      "Warning: Maximum number of iterations has been exceeded.\n",
      "         Current function value: 0.132198\n",
      "         Iterations: 3\n",
      "         Function evaluations: 77\n",
      "         Gradient evaluations: 7\n",
      "====================================================================================================\n",
      "The algorithm stopped because it was unable to find a term that significantly decreases the loss.\n",
      "----------------------------------------------------------------------------------------------------\n",
      "----------------------------------------------------------------------------------------------------\n",
      "The final model has the following expression:\n",
      "2.08023099402987*[ReLU(P2)]**0.868090133004533*hyper((-0.418896939759376,), (1.29355026728102, 1.29355026728102), 1.0/[ReLU(P2)]) + 0.921574812320634*[ReLU(P3)]**1.12936044530641*hyper((-0.219733261292602,), (0.883741310479706, 0.883741310479706), 1.0/[ReLU(P3)]) + 1.17303322706205*meijerg(((0.85037073201156,), (0.096651162516501,)), ((0.158540221868571, 0.0987292604734501), (-0.0925661406368119,)), 1.0*[ReLU(P1)])\n",
      "P1 =  0.545039104571436*X1 - 0.206691834718864*X2 + 0.597652835915764*X3\n",
      "P2 =  -0.051751492937772*X1 + 0.641204549007159*X2 + 0.885151175368888*X3\n",
      "P3 =  0.44046815124235*X1 + 0.144351891350933*X2 + 0.740729256508459*X3\n",
      "The number of terms inside the expansion is 3 .\n",
      "The current loss is 0.14631472164058065 .\n",
      "----------------------------------------------------------------------------------------------------\n"
     ]
    }
   ],
   "source": [
    "symbolic_model = SymbolicRegressor(maxiter=3,\n",
    "                 eps=1.0e-4)\n",
    "symbolic_model.fit(f, X)"
   ]
  },
  {
   "cell_type": "markdown",
   "metadata": {},
   "source": [
    "We now ask our symbolic model to predict the importance vectors for each test point."
   ]
  },
  {
   "cell_type": "code",
   "execution_count": 9,
   "metadata": {},
   "outputs": [],
   "source": [
    "symbolic_weight_list = [] \n",
    "for k in range(n_test):\n",
    "    symbolic_weight_list.append(symbolic_model.get_feature_importance(X_test[k]))\n",
    "    "
   ]
  },
  {
   "cell_type": "code",
   "execution_count": 10,
   "metadata": {},
   "outputs": [
    {
     "name": "stdout",
     "output_type": "stream",
     "text": [
      "[[0.304103643986965, 0.985616070373492, 1.85934322817885], [0.409219703948425, 0.858536332262576, 1.84096578696438], [3.60238638537070, -0.356466444262796, 5.30660464576506], [0.797220991428648, 1.05077619686094, 2.75469021861172], [0.428319537688384, 0.742949895127590, 1.69920150617097], [0.473655382235505, 0.735160133584799, 1.76311545037284], [0.659985283016554, 0.842700811470965, 2.22613245324729], [0.752718390210156, 1.11440794418485, 2.76811045260715], [0.967332591725389, 0.798453090524580, 2.65791010115301], [0.611074149150842, 0.752754346002077, 2.01661845208323]]\n"
     ]
    }
   ],
   "source": [
    "print(symbolic_weight_list)"
   ]
  },
  {
   "cell_type": "markdown",
   "metadata": {},
   "source": [
    "As we can see, our results appear to be always consistent and very close to the true importance vector $\\beta$."
   ]
  },
  {
   "cell_type": "markdown",
   "metadata": {},
   "source": [
    "## References<div class=\"cite2c-biblio\"></div>"
   ]
  },
  {
   "cell_type": "markdown",
   "metadata": {},
   "source": [
    "<div class=\"cite2c-biblio\"></div>"
   ]
  }
 ],
 "metadata": {
  "cite2c": {
   "citations": {
    "2480681/WCEBQ7N9": {
     "URL": "http://arxiv.org/abs/1602.04938",
     "abstract": "Despite widespread adoption, machine learning models remain mostly black boxes. Understanding the reasons behind predictions is, however, quite important in assessing trust, which is fundamental if one plans to take action based on a prediction, or when choosing whether to deploy a new model. Such understanding also provides insights into the model, which can be used to transform an untrustworthy model or prediction into a trustworthy one. In this work, we propose LIME, a novel explanation technique that explains the predictions of any classifier in an interpretable and faithful manner, by learning an interpretable model locally around the prediction. We also propose a method to explain models by presenting representative individual predictions and their explanations in a non-redundant way, framing the task as a submodular optimization problem. We demonstrate the flexibility of these methods by explaining different models for text (e.g. random forests) and image classification (e.g. neural networks). We show the utility of explanations via novel experiments, both simulated and with human subjects, on various scenarios that require trust: deciding if one should trust a prediction, choosing between models, improving an untrustworthy classifier, and identifying why a classifier should not be trusted.",
     "accessed": {
      "day": 29,
      "month": 4,
      "year": 2020
     },
     "author": [
      {
       "family": "Ribeiro",
       "given": "Marco Tulio"
      },
      {
       "family": "Singh",
       "given": "Sameer"
      },
      {
       "family": "Guestrin",
       "given": "Carlos"
      }
     ],
     "container-title": "arXiv:1602.04938 [cs, stat]",
     "id": "2480681/WCEBQ7N9",
     "issued": {
      "day": 9,
      "month": 8,
      "year": 2016
     },
     "note": "arXiv: 1602.04938",
     "shortTitle": "\"Why Should I Trust You?",
     "title": "\"Why Should I Trust You?\": Explaining the Predictions of Any Classifier",
     "title-short": "\"Why Should I Trust You?",
     "type": "article-journal"
    }
   }
  },
  "kernelspec": {
   "display_name": "Python 3",
   "language": "python",
   "name": "python3"
  },
  "language_info": {
   "codemirror_mode": {
    "name": "ipython",
    "version": 3
   },
   "file_extension": ".py",
   "mimetype": "text/x-python",
   "name": "python",
   "nbconvert_exporter": "python",
   "pygments_lexer": "ipython3",
   "version": "3.7.7"
  }
 },
 "nbformat": 4,
 "nbformat_minor": 4
}

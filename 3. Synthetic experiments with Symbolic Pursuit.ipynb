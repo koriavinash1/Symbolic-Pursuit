{
 "cells": [
  {
   "cell_type": "code",
   "execution_count": 1,
   "metadata": {},
   "outputs": [],
   "source": [
    "# ipython settings\n",
    "%load_ext autoreload\n",
    "%autoreload 2\n",
    "import warnings\n",
    "\n",
    "warnings.filterwarnings('ignore')"
   ]
  },
  {
   "cell_type": "markdown",
   "metadata": {},
   "source": [
    "# 3. Synthetic experiments with Symbolic Pursuit"
   ]
  },
  {
   "cell_type": "markdown",
   "metadata": {},
   "source": [
    "In this notebook, we shall reproduce one of the experiments from Section 6.1 of the paper.\n",
    "The idea is to start with a linear pseudo black-box for which the importance vector is known unambiguously and see which interpretability methods identifies this vector the most precisely. Let us start by the useful imports.\n"
   ]
  },
  {
   "cell_type": "code",
   "execution_count": 2,
   "metadata": {},
   "outputs": [],
   "source": [
    "from symbolic_pursuit.models import SymbolicRegressor  # our symbolic model class\n",
    "from sklearn.metrics import mean_squared_error # we are going to assess the quality of the model based on the generalization MSE\n",
    "from sympy import init_printing # We use sympy to display mathematical expresssions \n",
    "import numpy as np # we use numpy to deal with arrays\n",
    "import lime \n",
    "import lime.lime_tabular\n",
    "init_printing()"
   ]
  },
  {
   "cell_type": "markdown",
   "metadata": {},
   "source": [
    "We now define a linear pseudo black-box $f$ defined on a 3 dimensional feature space.\n",
    "\n",
    "$$ f(x_1,x_2,x_3)= x_1 + 2 \\cdot x_2 + 3 \\cdot x_3$$ \n",
    "\n",
    "The importance vector associated to this model is trivially given by $\\beta = (1,2,3)$ In this case, we shall keep it unnormalised, unlike in the main paper as we deal with few examples. Let us translate this in Python. "
   ]
  },
  {
   "cell_type": "code",
   "execution_count": 3,
   "metadata": {},
   "outputs": [],
   "source": [
    "def f(X):\n",
    "    return -1*X[:, 0]**2 + 2*X[:,1]**2 + 3*X[:,2]**3\n",
    "\n",
    "dim_X = 3"
   ]
  },
  {
   "cell_type": "markdown",
   "metadata": {},
   "source": [
    "Now draw uniformly 100 test points  that we will feed to a *LIME* explainer <cite data-cite=\"2480681/WCEBQ7N9\"></cite> and to train a Symbolic model."
   ]
  },
  {
   "cell_type": "code",
   "execution_count": 4,
   "metadata": {},
   "outputs": [],
   "source": [
    "n_pts = 100\n",
    "X = np.random.uniform(0, 1, (n_pts, dim_X))"
   ]
  },
  {
   "cell_type": "markdown",
   "metadata": {},
   "source": [
    "Now we draw 10 test ponits $x_{test} \\equiv U([0,1]^3)$ that we are going to use in order to evaluate the perfomances of both explainers on unseen data."
   ]
  },
  {
   "cell_type": "code",
   "execution_count": 5,
   "metadata": {},
   "outputs": [],
   "source": [
    "n_test = 10\n",
    "X_test = np.random.uniform(0, 1, (n_test, dim_X))"
   ]
  },
  {
   "cell_type": "markdown",
   "metadata": {},
   "source": [
    "Since LIME produces importance vectors with entries in the form $(feature \\ domain , importance)$ for each feature appearing in decreasing order of importance, we implement a function which identifies the feature from the first entry of the tuple and who sorts the importances in the form $(importance(x_1), importance(x_2), importance(x_3))$."
   ]
  },
  {
   "cell_type": "code",
   "execution_count": 6,
   "metadata": {},
   "outputs": [],
   "source": [
    "def order_weights(exp_list):\n",
    "    ordered_weights = [0 for _ in range(dim_X)]\n",
    "    for tup in exp_list:\n",
    "        feature_id = int(tup[0].split('x_')[1][0])\n",
    "        ordered_weights[feature_id-1] = tup[1]    \n",
    "    return ordered_weights    "
   ]
  },
  {
   "cell_type": "markdown",
   "metadata": {},
   "source": [
    "We are now ready to extract the feature importance for our 10 test points as predicted by the LIME explainer :"
   ]
  },
  {
   "cell_type": "code",
   "execution_count": 7,
   "metadata": {},
   "outputs": [
    {
     "name": "stdout",
     "output_type": "stream",
     "text": [
      "Intercept 0.7405264655100314\n",
      "Prediction_local [2.20310887]\n",
      "Right: 2.608365057349564\n",
      "Intercept 1.4583758896288619\n",
      "Prediction_local [0.12329823]\n",
      "Right: 0.1560636050246768\n",
      "Intercept 1.4268850931161419\n",
      "Prediction_local [0.08905213]\n",
      "Right: 0.13488257824282124\n",
      "Intercept 1.683486209606011\n",
      "Prediction_local [-0.6447336]\n",
      "Right: -0.3279022373241939\n",
      "Intercept 1.668153206984909\n",
      "Prediction_local [-0.53783986]\n",
      "Right: -0.6690314925412343\n",
      "Intercept 1.1622619429446956\n",
      "Prediction_local [0.93104246]\n",
      "Right: 1.4477905821351933\n",
      "Intercept 1.4372498635832134\n",
      "Prediction_local [0.16911096]\n",
      "Right: 0.062496300810271424\n",
      "Intercept 0.940577093371443\n",
      "Prediction_local [1.59609345]\n",
      "Right: 1.4558204845521794\n",
      "Intercept 0.9546226090342119\n",
      "Prediction_local [1.56107679]\n",
      "Right: 2.476292685595626\n",
      "Intercept 1.4468405952230627\n",
      "Prediction_local [0.07945896]\n",
      "Right: 0.13707143587208612\n",
      "[[0.23652031125435852, 1.1223741632087427, 0.10368793096238493], [0.18417919046996042, -0.42944573657422985, -1.0898111140824274], [-0.600988679548089, 0.11486379280529678, -0.8517080779955438], [-0.6275166374246968, -0.8242350948947159, -0.8764680814503398], [-0.5868942453641719, -0.7374133301943341, -0.8816854896601287], [0.4472917492736388, -0.7470553506796984, 0.06854411950292695], [-0.5505196357887819, 0.18989241110044455, -0.907511677781943], [0.4407900350676682, 0.11616542786101748, 0.09856089066544178], [-0.561983274366432, 1.1111466640939582, 0.05729079070160742], [-0.5888811701409544, 0.10187101295086548, -0.880371473362025]]\n"
     ]
    }
   ],
   "source": [
    "lime_weight_list = []\n",
    "explainer = lime.lime_tabular.LimeTabularExplainer(X, \n",
    "                                                   feature_names=[\"x_\"+str(k) for k in range(1,dim_X+1)], \n",
    "                                                   class_names=['f'], \n",
    "                                                   verbose=True,\n",
    "                                                   mode='regression')\n",
    "\n",
    "for i in range(n_test):\n",
    "    exp = explainer.explain_instance(X_test[i], f, num_features=dim_X)\n",
    "    lime_weight_list.append(order_weights(exp.as_list()))  \n",
    "                            \n",
    "print(lime_weight_list)    "
   ]
  },
  {
   "cell_type": "markdown",
   "metadata": {},
   "source": [
    "As we can see from the last output, which is the list of predicted importance vectors, LIME seems to produce a big variety of importance vectors. This is suprising for a global linear model. We also note that the relative importance seem inconsistent with the true importance vector $\\beta$ defined above. Let us now train a Symbolic model for $f$ based on our training set."
   ]
  },
  {
   "cell_type": "code",
   "execution_count": 8,
   "metadata": {},
   "outputs": [
    {
     "name": "stdout",
     "output_type": "stream",
     "text": [
      "Model created with the following hyperparameters :\n",
      " loss_tol=0.001 \n",
      " ratio_tol=0.9 \n",
      " maxiter=20 \n",
      " eps=0.0001 \n",
      " random_seed=42\n",
      "%%%%%%%%%%%%%%%%%%%%%%%%%%%%%%%%%%%%%%%%%%%%%%%%%%%%%%%%%%%%%%%%%%%%%%%%%%%%%%%%%%%%%%%%%%%%%%%%%%%%\n",
      "Now working on term number  1 .\n",
      "====================================================================================================\n",
      "Now working on hyperparameter tree number  1 .\n",
      "Warning: Desired error not necessarily achieved due to precision loss.\n",
      "         Current function value: 0.270213\n",
      "         Iterations: 3\n",
      "         Function evaluations: 304\n",
      "         Gradient evaluations: 36\n",
      "====================================================================================================\n",
      "Now working on hyperparameter tree number  2 .\n",
      "Warning: Desired error not necessarily achieved due to precision loss.\n",
      "         Current function value: 0.886529\n",
      "         Iterations: 1\n",
      "         Function evaluations: 211\n",
      "         Gradient evaluations: 20\n",
      "====================================================================================================\n",
      "Now working on hyperparameter tree number  3 .\n",
      "Warning: Desired error not necessarily achieved due to precision loss.\n",
      "         Current function value: 0.406623\n",
      "         Iterations: 2\n",
      "         Function evaluations: 332\n",
      "         Gradient evaluations: 29\n",
      "====================================================================================================\n",
      "The tree number  1  was selected as the best.\n",
      "====================================================================================================\n",
      "Backfitting complete.\n",
      "====================================================================================================\n",
      "====================================================================================================\n",
      "The current model has the following expression:  0.999997804137333*[ReLU(P1)]**0.249997176414374*exp(-0.250000636481756*I*pi)*besseli(0.500001272963513, 2.0*sqrt([ReLU(P1)])*exp_polar(I*pi/2))\n",
      "The current value of the loss is:  0.27021327054912536 .\n",
      "%%%%%%%%%%%%%%%%%%%%%%%%%%%%%%%%%%%%%%%%%%%%%%%%%%%%%%%%%%%%%%%%%%%%%%%%%%%%%%%%%%%%%%%%%%%%%%%%%%%%\n",
      "Now working on term number  2 .\n",
      "====================================================================================================\n",
      "Now working on hyperparameter tree number  1 .\n",
      "Warning: Desired error not necessarily achieved due to precision loss.\n",
      "         Current function value: 0.995963\n",
      "         Iterations: 0\n",
      "         Function evaluations: 212\n",
      "         Gradient evaluations: 25\n",
      "====================================================================================================\n",
      "Now working on hyperparameter tree number  2 .\n",
      "Warning: Desired error not necessarily achieved due to precision loss.\n",
      "         Current function value: 0.428372\n",
      "         Iterations: 1\n",
      "         Function evaluations: 202\n",
      "         Gradient evaluations: 19\n",
      "====================================================================================================\n",
      "Now working on hyperparameter tree number  3 .\n",
      "Warning: Desired error not necessarily achieved due to precision loss.\n",
      "         Current function value: 0.959524\n",
      "         Iterations: 0\n",
      "         Function evaluations: 287\n",
      "         Gradient evaluations: 25\n",
      "====================================================================================================\n",
      "The algorithm stopped because it was unable to find a term that significantly decreases the loss.\n",
      "----------------------------------------------------------------------------------------------------\n",
      "----------------------------------------------------------------------------------------------------\n",
      "The final model has the following expression:\n",
      "0.999997804137333*[ReLU(P1)]**0.249997176414374*exp(-0.250000636481756*I*pi)*besseli(0.500001272963513, 2.0*sqrt([ReLU(P1)])*exp_polar(I*pi/2))\n",
      "P1 =  0.496710384226756*X1 - 0.138267069040654*X2 + 0.647683510927868*X3\n",
      "The number of terms inside the expansion is 1 .\n",
      "The current loss is 0.27021327054912536 .\n",
      "----------------------------------------------------------------------------------------------------\n"
     ]
    }
   ],
   "source": [
    "symbolic_model = SymbolicRegressor(maxiter=20,\n",
    "                 eps=1.0e-4)\n",
    "symbolic_model.fit(f, X)"
   ]
  },
  {
   "cell_type": "markdown",
   "metadata": {},
   "source": [
    "We now ask our symbolic model to predict the importance vectors for each test point."
   ]
  },
  {
   "cell_type": "code",
   "execution_count": 9,
   "metadata": {},
   "outputs": [],
   "source": [
    "symbolic_weight_list = [] \n",
    "for k in range(n_test):\n",
    "    symbolic_weight_list.append(symbolic_model.get_feature_importance(X_test[k]))\n",
    "    "
   ]
  },
  {
   "cell_type": "code",
   "execution_count": 10,
   "metadata": {},
   "outputs": [
    {
     "name": "stdout",
     "output_type": "stream",
     "text": [
      "[[0.0711919975428705, -0.0196895643913308, 0.0928001247198033], [0.315262701348832, -0.0876304448834403, 0.411055138860024], [0.0631766231831720, -0.0174583601419887, 0.0823485095099213], [0.0780174719311039, -0.0215895414573272, 0.101700174640042], [0.0932499535578633, -0.0258297398820618, 0.121562507889874], [0.0680905869678336, -0.0188262384699901, 0.0887560528544733], [0.136433073664228, -0.0378504337083696, 0.177870963946919], [0.204552826446150, -0.0568126274937737, 0.266695442045996], [0.0195224861073649, -0.00530655140868202, 0.0254258727669825], [0.127620469656256, -0.0353973081738693, 0.166379804338517]]\n"
     ]
    }
   ],
   "source": [
    "print(symbolic_weight_list)"
   ]
  },
  {
   "cell_type": "markdown",
   "metadata": {},
   "source": [
    "As we can see, our results appear to be always consistent and very close to the true importance vector $\\beta$."
   ]
  },
  {
   "cell_type": "code",
   "execution_count": 11,
   "metadata": {},
   "outputs": [
    {
     "name": "stdout",
     "output_type": "stream",
     "text": [
      "3.5334769433466486\n"
     ]
    }
   ],
   "source": [
    "print (np.linalg.norm(symbolic_model.predict(X_test) - f(X_test)))"
   ]
  },
  {
   "cell_type": "code",
   "execution_count": 12,
   "metadata": {},
   "outputs": [
    {
     "data": {
      "text/plain": [
       "array([0.54751   , 0.41773502, 0.55061806, 0.54469921, 0.53795729,\n",
       "       0.54873852, 0.51631113, 0.47855498, 0.56262748, 0.52095646])"
      ]
     },
     "execution_count": 12,
     "metadata": {},
     "output_type": "execute_result"
    }
   ],
   "source": [
    "symbolic_model.predict(X_test)"
   ]
  },
  {
   "cell_type": "code",
   "execution_count": 13,
   "metadata": {},
   "outputs": [
    {
     "data": {
      "text/plain": [
       "array([ 2.60836506,  0.15606361,  0.13488258, -0.32790224, -0.66903149,\n",
       "        1.44779058,  0.0624963 ,  1.45582048,  2.47629269,  0.13707144])"
      ]
     },
     "execution_count": 13,
     "metadata": {},
     "output_type": "execute_result"
    }
   ],
   "source": [
    "f(X_test)"
   ]
  },
  {
   "cell_type": "markdown",
   "metadata": {},
   "source": [
    "## References<div class=\"cite2c-biblio\"></div>"
   ]
  },
  {
   "cell_type": "markdown",
   "metadata": {},
   "source": [
    "<div class=\"cite2c-biblio\"></div>"
   ]
  }
 ],
 "metadata": {
  "cite2c": {
   "citations": {
    "2480681/WCEBQ7N9": {
     "URL": "http://arxiv.org/abs/1602.04938",
     "abstract": "Despite widespread adoption, machine learning models remain mostly black boxes. Understanding the reasons behind predictions is, however, quite important in assessing trust, which is fundamental if one plans to take action based on a prediction, or when choosing whether to deploy a new model. Such understanding also provides insights into the model, which can be used to transform an untrustworthy model or prediction into a trustworthy one. In this work, we propose LIME, a novel explanation technique that explains the predictions of any classifier in an interpretable and faithful manner, by learning an interpretable model locally around the prediction. We also propose a method to explain models by presenting representative individual predictions and their explanations in a non-redundant way, framing the task as a submodular optimization problem. We demonstrate the flexibility of these methods by explaining different models for text (e.g. random forests) and image classification (e.g. neural networks). We show the utility of explanations via novel experiments, both simulated and with human subjects, on various scenarios that require trust: deciding if one should trust a prediction, choosing between models, improving an untrustworthy classifier, and identifying why a classifier should not be trusted.",
     "accessed": {
      "day": 29,
      "month": 4,
      "year": 2020
     },
     "author": [
      {
       "family": "Ribeiro",
       "given": "Marco Tulio"
      },
      {
       "family": "Singh",
       "given": "Sameer"
      },
      {
       "family": "Guestrin",
       "given": "Carlos"
      }
     ],
     "container-title": "arXiv:1602.04938 [cs, stat]",
     "id": "2480681/WCEBQ7N9",
     "issued": {
      "day": 9,
      "month": 8,
      "year": 2016
     },
     "note": "arXiv: 1602.04938",
     "shortTitle": "\"Why Should I Trust You?",
     "title": "\"Why Should I Trust You?\": Explaining the Predictions of Any Classifier",
     "title-short": "\"Why Should I Trust You?",
     "type": "article-journal"
    }
   }
  },
  "kernelspec": {
   "display_name": "Python 3",
   "language": "python",
   "name": "python3"
  },
  "language_info": {
   "codemirror_mode": {
    "name": "ipython",
    "version": 3
   },
   "file_extension": ".py",
   "mimetype": "text/x-python",
   "name": "python",
   "nbconvert_exporter": "python",
   "pygments_lexer": "ipython3",
   "version": "3.7.7"
  }
 },
 "nbformat": 4,
 "nbformat_minor": 4
}

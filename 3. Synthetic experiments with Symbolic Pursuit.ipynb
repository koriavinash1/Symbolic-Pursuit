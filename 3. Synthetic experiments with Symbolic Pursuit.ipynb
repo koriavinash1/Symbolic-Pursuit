{
 "cells": [
  {
   "cell_type": "code",
   "execution_count": 1,
   "metadata": {},
   "outputs": [],
   "source": [
    "# ipython settings\n",
    "%load_ext autoreload\n",
    "%autoreload 2\n",
    "import warnings\n",
    "\n",
    "warnings.filterwarnings('ignore')"
   ]
  },
  {
   "cell_type": "markdown",
   "metadata": {},
   "source": [
    "# 3. Synthetic experiments with Symbolic Pursuit"
   ]
  },
  {
   "cell_type": "markdown",
   "metadata": {},
   "source": [
    "In this notebook, we shall reproduce one of the experiments from Section 6.1 of the paper.\n",
    "The idea is to start with a linear pseudo black-box for which the importance vector is known unambiguously and see which interpretability methods identifies this vector the most precisely. Let us start by the useful imports.\n"
   ]
  },
  {
   "cell_type": "code",
   "execution_count": 2,
   "metadata": {},
   "outputs": [],
   "source": [
    "from symbolic_pursuit.models import SymbolicRegressor  # our symbolic model class\n",
    "from sklearn.metrics import mean_squared_error # we are going to assess the quality of the model based on the generalization MSE\n",
    "from sympy import init_printing # We use sympy to display mathematical expresssions \n",
    "import numpy as np # we use numpy to deal with arrays\n",
    "import lime \n",
    "import lime.lime_tabular\n",
    "init_printing()"
   ]
  },
  {
   "cell_type": "markdown",
   "metadata": {},
   "source": [
    "We now define a linear pseudo black-box $f$ defined on a 3 dimensional feature space.\n",
    "\n",
    "$$ f(x_1,x_2,x_3)= x_1 + 2 \\cdot x_2 + 3 \\cdot x_3$$ \n",
    "\n",
    "The importance vector associated to this model is trivially given by $\\beta = (1,2,3)$ In this case, we shall keep it unnormalised, unlike in the main paper as we deal with few examples. Let us translate this in Python. "
   ]
  },
  {
   "cell_type": "code",
   "execution_count": 3,
   "metadata": {},
   "outputs": [],
   "source": [
    "def f(X):\n",
    "    return -1*X[:, 0]**2 + 2*X[:,1]**2 + 3*X[:,2]**3\n",
    "\n",
    "dim_X = 3"
   ]
  },
  {
   "cell_type": "markdown",
   "metadata": {},
   "source": [
    "Now draw uniformly 100 test points  that we will feed to a *LIME* explainer <cite data-cite=\"2480681/WCEBQ7N9\"></cite> and to train a Symbolic model."
   ]
  },
  {
   "cell_type": "code",
   "execution_count": 4,
   "metadata": {},
   "outputs": [],
   "source": [
    "n_pts = 100\n",
    "X = np.random.uniform(0, 1, (n_pts, dim_X))"
   ]
  },
  {
   "cell_type": "markdown",
   "metadata": {},
   "source": [
    "Now we draw 10 test ponits $x_{test} \\equiv U([0,1]^3)$ that we are going to use in order to evaluate the perfomances of both explainers on unseen data."
   ]
  },
  {
   "cell_type": "code",
   "execution_count": 5,
   "metadata": {},
   "outputs": [],
   "source": [
    "n_test = 10\n",
    "X_test = np.random.uniform(0, 1, (n_test, dim_X))"
   ]
  },
  {
   "cell_type": "markdown",
   "metadata": {},
   "source": [
    "Since LIME produces importance vectors with entries in the form $(feature \\ domain , importance)$ for each feature appearing in decreasing order of importance, we implement a function which identifies the feature from the first entry of the tuple and who sorts the importances in the form $(importance(x_1), importance(x_2), importance(x_3))$."
   ]
  },
  {
   "cell_type": "code",
   "execution_count": 6,
   "metadata": {},
   "outputs": [],
   "source": [
    "def order_weights(exp_list):\n",
    "    ordered_weights = [0 for _ in range(dim_X)]\n",
    "    for tup in exp_list:\n",
    "        feature_id = int(tup[0].split('x_')[1][0])\n",
    "        ordered_weights[feature_id-1] = tup[1]    \n",
    "    return ordered_weights    "
   ]
  },
  {
   "cell_type": "markdown",
   "metadata": {},
   "source": [
    "We are now ready to extract the feature importance for our 10 test points as predicted by the LIME explainer :"
   ]
  },
  {
   "cell_type": "code",
   "execution_count": 7,
   "metadata": {},
   "outputs": [
    {
     "name": "stdout",
     "output_type": "stream",
     "text": [
      "Intercept 1.2811686984317572\n",
      "Prediction_local [0.48919162]\n",
      "Right: 0.6759049269299239\n",
      "Intercept 1.3673322185147874\n",
      "Prediction_local [0.1313389]\n",
      "Right: 0.04956741600730538\n",
      "Intercept 0.9190793635741643\n",
      "Prediction_local [1.51239224]\n",
      "Right: 1.909123611002963\n",
      "Intercept 0.9108872124177105\n",
      "Prediction_local [1.5847062]\n",
      "Right: 1.379830561639335\n",
      "Intercept 0.6686939747994213\n",
      "Prediction_local [2.27954227]\n",
      "Right: 3.096074194835146\n",
      "Intercept 0.8071440927164905\n",
      "Prediction_local [1.91238276]\n",
      "Right: 1.988105190628521\n",
      "Intercept 0.851757766546742\n",
      "Prediction_local [1.6822679]\n",
      "Right: 1.8098883041410598\n",
      "Intercept 1.2897077015445049\n",
      "Prediction_local [0.40970882]\n",
      "Right: 0.39518061870925936\n",
      "Intercept 0.8213817009347409\n",
      "Prediction_local [1.79123668]\n",
      "Right: 1.5958066392171852\n",
      "Intercept 1.6459679941564676\n",
      "Prediction_local [-0.61403771]\n",
      "Right: -0.7304062415318053\n",
      "[[0.39494272822337434, -0.5564098017465704, -0.6305100041803118], [0.254529470126835, -0.8683692464852784, -0.6221535433809703], [-0.022640556660238752, -0.8536247715486869, 1.469578203183494], [-0.5938568307150657, 1.24211875283359, 0.02555706079915166], [-0.07138601471403365, 0.19907742276784055, 1.483156887866262], [-0.5484302990194251, 0.19404543824532186, 1.4596235311895622], [0.21882505224920556, -0.8734923906370715, 1.4851774714024872], [-0.07476405505315545, -0.8198428106763673, 0.014607981595830107], [0.357524763244448, -0.8587871842317215, 1.4711173993681843], [-0.532281539106347, -0.8583090452870606, -0.8694151172087939]]\n"
     ]
    }
   ],
   "source": [
    "lime_weight_list = []\n",
    "explainer = lime.lime_tabular.LimeTabularExplainer(X, \n",
    "                                                   feature_names=[\"x_\"+str(k) for k in range(1,dim_X+1)], \n",
    "                                                   class_names=['f'], \n",
    "                                                   verbose=True,\n",
    "                                                   mode='regression')\n",
    "\n",
    "for i in range(n_test):\n",
    "    exp = explainer.explain_instance(X_test[i], f, num_features=dim_X)\n",
    "    lime_weight_list.append(order_weights(exp.as_list()))  \n",
    "                            \n",
    "print(lime_weight_list)    "
   ]
  },
  {
   "cell_type": "markdown",
   "metadata": {},
   "source": [
    "As we can see from the last output, which is the list of predicted importance vectors, LIME seems to produce a big variety of importance vectors. This is suprising for a global linear model. We also note that the relative importance seem inconsistent with the true importance vector $\\beta$ defined above. Let us now train a Symbolic model for $f$ based on our training set."
   ]
  },
  {
   "cell_type": "code",
   "execution_count": 8,
   "metadata": {},
   "outputs": [
    {
     "name": "stdout",
     "output_type": "stream",
     "text": [
      "Model created with the following hyperparameters :\n",
      " loss_tol=0.001 \n",
      " ratio_tol=0.9 \n",
      " maxiter=20 \n",
      " eps=0.0001 \n",
      " random_seed=42\n",
      "%%%%%%%%%%%%%%%%%%%%%%%%%%%%%%%%%%%%%%%%%%%%%%%%%%%%%%%%%%%%%%%%%%%%%%%%%%%%%%%%%%%%%%%%%%%%%%%%%%%%\n",
      "Now working on term number  1 .\n",
      "====================================================================================================\n",
      "Now working on hyperparameter tree number  1 .\n",
      "Warning: Maximum number of iterations has been exceeded.\n",
      "         Current function value: 0.160665\n",
      "         Iterations: 20\n",
      "         Function evaluations: 328\n",
      "         Gradient evaluations: 41\n",
      "====================================================================================================\n",
      "Now working on hyperparameter tree number  2 .\n",
      "Warning: Maximum number of iterations has been exceeded.\n",
      "         Current function value: 0.135299\n",
      "         Iterations: 20\n",
      "         Function evaluations: 440\n",
      "         Gradient evaluations: 44\n",
      "====================================================================================================\n",
      "Now working on hyperparameter tree number  3 .\n",
      "Warning: Maximum number of iterations has been exceeded.\n",
      "         Current function value: 0.726129\n",
      "         Iterations: 20\n",
      "         Function evaluations: 583\n",
      "         Gradient evaluations: 53\n",
      "====================================================================================================\n",
      "The tree number  2  was selected as the best.\n",
      "====================================================================================================\n",
      "Backfitting complete.\n",
      "====================================================================================================\n",
      "====================================================================================================\n",
      "The current model has the following expression:  5.67923895476624*[ReLU(P1)]**1.21501288739573*hyper((-0.0194585592650769,), (1.15836007433501, 1.15836007433501), 1.0/[ReLU(P1)])\n",
      "The current value of the loss is:  0.13529904079547878 .\n",
      "%%%%%%%%%%%%%%%%%%%%%%%%%%%%%%%%%%%%%%%%%%%%%%%%%%%%%%%%%%%%%%%%%%%%%%%%%%%%%%%%%%%%%%%%%%%%%%%%%%%%\n",
      "Now working on term number  2 .\n",
      "====================================================================================================\n",
      "Now working on hyperparameter tree number  1 .\n",
      "Warning: Maximum number of iterations has been exceeded.\n",
      "         Current function value: 0.084704\n",
      "         Iterations: 20\n",
      "         Function evaluations: 512\n",
      "         Gradient evaluations: 64\n",
      "====================================================================================================\n",
      "Now working on hyperparameter tree number  2 .\n",
      "Warning: Maximum number of iterations has been exceeded.\n",
      "         Current function value: 0.088795\n",
      "         Iterations: 20\n",
      "         Function evaluations: 550\n",
      "         Gradient evaluations: 55\n",
      "====================================================================================================\n",
      "Now working on hyperparameter tree number  3 .\n",
      "Warning: Maximum number of iterations has been exceeded.\n",
      "         Current function value: 0.047229\n",
      "         Iterations: 20\n",
      "         Function evaluations: 572\n",
      "         Gradient evaluations: 52\n",
      "====================================================================================================\n",
      "The tree number  3  was selected as the best.\n",
      "====================================================================================================\n",
      "Now backfitting term number  1 .\n",
      "Warning: Maximum number of iterations has been exceeded.\n",
      "         Current function value: 0.028884\n",
      "         Iterations: 20\n",
      "         Function evaluations: 440\n",
      "         Gradient evaluations: 44\n",
      "====================================================================================================\n",
      "Backfitting complete.\n",
      "====================================================================================================\n",
      "====================================================================================================\n",
      "The current model has the following expression:  5.8219301849581*[ReLU(P1)]**1.29002622761706*hyper((-0.0135518359391551,), (1.18490359989129, 1.18490359989129), 1.0/[ReLU(P1)]) + 1.21171681194624*meijerg(((-0.6669874152724,), (-0.24305256889702,)), ((1.59798747249414, 1.5463748252633), (2.33374458583109,)), 1.0*[ReLU(P2)])\n",
      "The current value of the loss is:  0.028884230407980306 .\n",
      "%%%%%%%%%%%%%%%%%%%%%%%%%%%%%%%%%%%%%%%%%%%%%%%%%%%%%%%%%%%%%%%%%%%%%%%%%%%%%%%%%%%%%%%%%%%%%%%%%%%%\n",
      "Now working on term number  3 .\n",
      "====================================================================================================\n",
      "Now working on hyperparameter tree number  1 .\n",
      "Warning: Maximum number of iterations has been exceeded.\n",
      "         Current function value: 0.024537\n",
      "         Iterations: 20\n",
      "         Function evaluations: 712\n",
      "         Gradient evaluations: 89\n",
      "====================================================================================================\n",
      "Now working on hyperparameter tree number  2 .\n",
      "Warning: Maximum number of iterations has been exceeded.\n",
      "         Current function value: 0.027972\n",
      "         Iterations: 20\n",
      "         Function evaluations: 780\n",
      "         Gradient evaluations: 78\n",
      "====================================================================================================\n",
      "Now working on hyperparameter tree number  3 .\n",
      "Warning: Maximum number of iterations has been exceeded.\n",
      "         Current function value: 0.020519\n",
      "         Iterations: 20\n",
      "         Function evaluations: 649\n",
      "         Gradient evaluations: 59\n",
      "====================================================================================================\n",
      "The tree number  3  was selected as the best.\n",
      "====================================================================================================\n",
      "Now backfitting term number  1 .\n",
      "Warning: Maximum number of iterations has been exceeded.\n",
      "         Current function value: 0.016117\n",
      "         Iterations: 20\n",
      "         Function evaluations: 360\n",
      "         Gradient evaluations: 36\n",
      "====================================================================================================\n",
      "Now backfitting term number  2 .\n",
      "Warning: Maximum number of iterations has been exceeded.\n",
      "         Current function value: 0.014251\n",
      "         Iterations: 20\n",
      "         Function evaluations: 484\n",
      "         Gradient evaluations: 44\n",
      "====================================================================================================\n",
      "Backfitting complete.\n",
      "====================================================================================================\n",
      "====================================================================================================\n",
      "The current model has the following expression:  6.07465503814941*[ReLU(P1)]**1.39928870118765*hyper((-0.0152247696244516,), (1.22952951111657, 1.22952951111657), 1.0/[ReLU(P1)]) + 1.25188026876184*meijerg(((-0.716478789084799,), (-0.272424219799785,)), ((1.59005920987361, 1.53791153991062), (2.37599361686446,)), 1.0*[ReLU(P2)]) - 1.22958374849913*meijerg(((-0.23748548663757,), (-0.197452134907388,)), ((1.1881599033073, 1.16965484007215), (1.57939956813352,)), 1.0*[ReLU(P3)])\n",
      "The current value of the loss is:  0.01425133684223166 .\n",
      "%%%%%%%%%%%%%%%%%%%%%%%%%%%%%%%%%%%%%%%%%%%%%%%%%%%%%%%%%%%%%%%%%%%%%%%%%%%%%%%%%%%%%%%%%%%%%%%%%%%%\n",
      "Now working on term number  4 .\n",
      "====================================================================================================\n",
      "Now working on hyperparameter tree number  1 .\n",
      "Warning: Maximum number of iterations has been exceeded.\n",
      "         Current function value: 0.011191\n",
      "         Iterations: 20\n",
      "         Function evaluations: 816\n",
      "         Gradient evaluations: 102\n",
      "====================================================================================================\n",
      "Now working on hyperparameter tree number  2 .\n",
      "Warning: Maximum number of iterations has been exceeded.\n",
      "         Current function value: 0.009260\n",
      "         Iterations: 20\n",
      "         Function evaluations: 680\n",
      "         Gradient evaluations: 68\n",
      "====================================================================================================\n",
      "Now working on hyperparameter tree number  3 .\n",
      "Warning: Maximum number of iterations has been exceeded.\n",
      "         Current function value: 0.005954\n",
      "         Iterations: 20\n",
      "         Function evaluations: 726\n",
      "         Gradient evaluations: 66\n",
      "====================================================================================================\n",
      "The tree number  3  was selected as the best.\n",
      "====================================================================================================\n",
      "Now backfitting term number  1 .\n",
      "Warning: Maximum number of iterations has been exceeded.\n",
      "         Current function value: 0.004063\n",
      "         Iterations: 20\n",
      "         Function evaluations: 470\n",
      "         Gradient evaluations: 47\n",
      "====================================================================================================\n",
      "Now backfitting term number  2 .\n",
      "Warning: Maximum number of iterations has been exceeded.\n",
      "         Current function value: 0.003406\n",
      "         Iterations: 20\n",
      "         Function evaluations: 451\n",
      "         Gradient evaluations: 41\n",
      "====================================================================================================\n",
      "Now backfitting term number  3 .\n",
      "Warning: Maximum number of iterations has been exceeded.\n",
      "         Current function value: 0.002908\n",
      "         Iterations: 20\n",
      "         Function evaluations: 539\n",
      "         Gradient evaluations: 49\n",
      "====================================================================================================\n",
      "Backfitting complete.\n",
      "====================================================================================================\n",
      "====================================================================================================\n",
      "The current model has the following expression:  6.05625156994664*[ReLU(P1)]**1.45001587764712*hyper((-0.0113603715327197,), (1.21762372867152, 1.21762372867152), 1.0/[ReLU(P1)]) + 1.27199376005778*meijerg(((-0.709443380910415,), (-0.30681846956019,)), ((1.53871924144823, 1.4864794179197), (2.33596099488017,)), 1.0*[ReLU(P2)]) + 1.05730558334419*meijerg(((-0.415811105910899,), (-0.270184726772135,)), ((1.16981058166109, 1.14863881726695), (1.57407763980956,)), 1.0*[ReLU(P4)]) - 1.28487908462196*meijerg(((-0.305643646778972,), (-0.216557872821905,)), ((1.26454887175705, 1.24599006080289), (1.75601260173191,)), 1.0*[ReLU(P3)])\n",
      "The current value of the loss is:  0.002907670208442016 .\n",
      "%%%%%%%%%%%%%%%%%%%%%%%%%%%%%%%%%%%%%%%%%%%%%%%%%%%%%%%%%%%%%%%%%%%%%%%%%%%%%%%%%%%%%%%%%%%%%%%%%%%%\n",
      "Now working on term number  5 .\n",
      "====================================================================================================\n",
      "Now working on hyperparameter tree number  1 .\n",
      "Optimization terminated successfully.\n",
      "         Current function value: 0.002752\n",
      "         Iterations: 7\n",
      "         Function evaluations: 296\n",
      "         Gradient evaluations: 37\n",
      "====================================================================================================\n",
      "Now working on hyperparameter tree number  2 .\n",
      "Warning: Maximum number of iterations has been exceeded.\n",
      "         Current function value: 0.002842\n",
      "         Iterations: 20\n",
      "         Function evaluations: 910\n",
      "         Gradient evaluations: 91\n",
      "====================================================================================================\n",
      "Now working on hyperparameter tree number  3 .\n",
      "Warning: Maximum number of iterations has been exceeded.\n",
      "         Current function value: 0.002816\n",
      "         Iterations: 20\n",
      "         Function evaluations: 957\n",
      "         Gradient evaluations: 87\n",
      "====================================================================================================\n",
      "The algorithm stopped because it was unable to find a term that significantly decreases the loss.\n",
      "----------------------------------------------------------------------------------------------------\n",
      "----------------------------------------------------------------------------------------------------\n",
      "The final model has the following expression:\n",
      "6.05625156994664*[ReLU(P1)]**1.45001587764712*hyper((-0.0113603715327197,), (1.21762372867152, 1.21762372867152), 1.0/[ReLU(P1)]) + 1.27199376005778*meijerg(((-0.709443380910415,), (-0.30681846956019,)), ((1.53871924144823, 1.4864794179197), (2.33596099488017,)), 1.0*[ReLU(P2)]) + 1.05730558334419*meijerg(((-0.415811105910899,), (-0.270184726772135,)), ((1.16981058166109, 1.14863881726695), (1.57407763980956,)), 1.0*[ReLU(P4)]) - 1.28487908462196*meijerg(((-0.305643646778972,), (-0.216557872821905,)), ((1.26454887175705, 1.24599006080289), (1.75601260173191,)), 1.0*[ReLU(P3)])\n",
      "P1 =  -0.538858823479544*X1 + 1.08691524244283*X2 + 0.935268978461797*X3\n",
      "P2 =  0.172199506788199*X1 - 0.129281856530073*X2 + 1.38019400578206*X3\n",
      "P3 =  3.00449886304409*X1 - 0.558699623035532*X2 + 0.218993310399405*X3\n",
      "P4 =  0.261603899049023*X1 + 2.73646538016622*X2 - 0.626223674017663*X3\n",
      "The number of terms inside the expansion is 4 .\n",
      "The current loss is 0.002907670208442016 .\n",
      "----------------------------------------------------------------------------------------------------\n"
     ]
    }
   ],
   "source": [
    "symbolic_model = SymbolicRegressor(maxiter=20,\n",
    "                 eps=1.0e-4)\n",
    "symbolic_model.fit(f, X)"
   ]
  },
  {
   "cell_type": "markdown",
   "metadata": {},
   "source": [
    "We now ask our symbolic model to predict the importance vectors for each test point."
   ]
  },
  {
   "cell_type": "code",
   "execution_count": 9,
   "metadata": {},
   "outputs": [],
   "source": [
    "symbolic_weight_list = [] \n",
    "for k in range(n_test):\n",
    "    symbolic_weight_list.append(symbolic_model.get_feature_importance(X_test[k]))\n",
    "    "
   ]
  },
  {
   "cell_type": "code",
   "execution_count": 10,
   "metadata": {},
   "outputs": [
    {
     "name": "stdout",
     "output_type": "stream",
     "text": [
      "[[-1.12402211668569, 1.92997336859991, 2.00904654050354], [-0.869135173565616, 1.02790109590833, 1.00504326432794], [-1.09658170149752, 1.28974856120211, 6.90008380751337], [-1.56127640927291, 3.15681347010351, 3.26971259371104], [-0.746895281437129, 2.39368610340778, 7.21156980281456], [-1.57189511237784, 2.95451158304893, 5.62198015843764], [-0.181731358705430, 1.61084204650646, 6.23821277600107], [-0.792015152141856, 1.34805007474474, 3.22781083510790], [-0.109356175623874, 1.64791521348413, 5.65982955836456], [-1.46171637131951, 0.169075959140978, -1.03272924226887]]\n"
     ]
    }
   ],
   "source": [
    "print(symbolic_weight_list)"
   ]
  },
  {
   "cell_type": "markdown",
   "metadata": {},
   "source": [
    "As we can see, our results appear to be always consistent and very close to the true importance vector $\\beta$."
   ]
  },
  {
   "cell_type": "code",
   "execution_count": 12,
   "metadata": {},
   "outputs": [
    {
     "name": "stdout",
     "output_type": "stream",
     "text": [
      "0.31590864325578144\n"
     ]
    }
   ],
   "source": [
    "print (np.linalg.norm(symbolic_model.predict(X_test) - f(X_test)))"
   ]
  },
  {
   "cell_type": "code",
   "execution_count": 14,
   "metadata": {},
   "outputs": [
    {
     "data": {
      "text/plain": [
       "array([ 0.73712838,  0.0194304 ,  1.97291422,  1.38841182,  3.12368285,\n",
       "        2.05240243,  1.75006513,  0.24550255,  1.41627369, -0.56340908])"
      ]
     },
     "execution_count": 14,
     "metadata": {},
     "output_type": "execute_result"
    }
   ],
   "source": [
    "symbolic_model.predict(X_test)"
   ]
  },
  {
   "cell_type": "code",
   "execution_count": 15,
   "metadata": {},
   "outputs": [
    {
     "data": {
      "text/plain": [
       "array([ 0.67590493,  0.04956742,  1.90912361,  1.37983056,  3.09607419,\n",
       "        1.98810519,  1.8098883 ,  0.39518062,  1.59580664, -0.73040624])"
      ]
     },
     "execution_count": 15,
     "metadata": {},
     "output_type": "execute_result"
    }
   ],
   "source": [
    "f(X_test)"
   ]
  },
  {
   "cell_type": "markdown",
   "metadata": {},
   "source": [
    "## References<div class=\"cite2c-biblio\"></div>"
   ]
  },
  {
   "cell_type": "markdown",
   "metadata": {},
   "source": [
    "<div class=\"cite2c-biblio\"></div>"
   ]
  }
 ],
 "metadata": {
  "cite2c": {
   "citations": {
    "2480681/WCEBQ7N9": {
     "URL": "http://arxiv.org/abs/1602.04938",
     "abstract": "Despite widespread adoption, machine learning models remain mostly black boxes. Understanding the reasons behind predictions is, however, quite important in assessing trust, which is fundamental if one plans to take action based on a prediction, or when choosing whether to deploy a new model. Such understanding also provides insights into the model, which can be used to transform an untrustworthy model or prediction into a trustworthy one. In this work, we propose LIME, a novel explanation technique that explains the predictions of any classifier in an interpretable and faithful manner, by learning an interpretable model locally around the prediction. We also propose a method to explain models by presenting representative individual predictions and their explanations in a non-redundant way, framing the task as a submodular optimization problem. We demonstrate the flexibility of these methods by explaining different models for text (e.g. random forests) and image classification (e.g. neural networks). We show the utility of explanations via novel experiments, both simulated and with human subjects, on various scenarios that require trust: deciding if one should trust a prediction, choosing between models, improving an untrustworthy classifier, and identifying why a classifier should not be trusted.",
     "accessed": {
      "day": 29,
      "month": 4,
      "year": 2020
     },
     "author": [
      {
       "family": "Ribeiro",
       "given": "Marco Tulio"
      },
      {
       "family": "Singh",
       "given": "Sameer"
      },
      {
       "family": "Guestrin",
       "given": "Carlos"
      }
     ],
     "container-title": "arXiv:1602.04938 [cs, stat]",
     "id": "2480681/WCEBQ7N9",
     "issued": {
      "day": 9,
      "month": 8,
      "year": 2016
     },
     "note": "arXiv: 1602.04938",
     "shortTitle": "\"Why Should I Trust You?",
     "title": "\"Why Should I Trust You?\": Explaining the Predictions of Any Classifier",
     "title-short": "\"Why Should I Trust You?",
     "type": "article-journal"
    }
   }
  },
  "kernelspec": {
   "display_name": "Python 3",
   "language": "python",
   "name": "python3"
  },
  "language_info": {
   "codemirror_mode": {
    "name": "ipython",
    "version": 3
   },
   "file_extension": ".py",
   "mimetype": "text/x-python",
   "name": "python",
   "nbconvert_exporter": "python",
   "pygments_lexer": "ipython3",
   "version": "3.7.7"
  }
 },
 "nbformat": 4,
 "nbformat_minor": 4
}

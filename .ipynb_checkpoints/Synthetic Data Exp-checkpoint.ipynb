{
 "cells": [
  {
   "cell_type": "code",
   "execution_count": 2,
   "metadata": {},
   "outputs": [
    {
     "name": "stdout",
     "output_type": "stream",
     "text": [
      "The autoreload extension is already loaded. To reload it, use:\n",
      "  %reload_ext autoreload\n"
     ]
    }
   ],
   "source": [
    "# ipython settings\n",
    "%load_ext autoreload\n",
    "%autoreload 2\n",
    "import warnings\n",
    "\n",
    "warnings.filterwarnings('ignore')"
   ]
  },
  {
   "cell_type": "code",
   "execution_count": 3,
   "metadata": {},
   "outputs": [],
   "source": [
    "from sklearn.metrics import mean_squared_error # we are going to assess the quality of the model based on the generalization MSE\n",
    "from sklearn.metrics import accuracy_score\n",
    "from sympy import init_printing # We use sympy to display mathematical expresssions \n",
    "import numpy as np # we use numpy to deal with arrays\n",
    "import lime \n",
    "import lime.lime_tabular\n",
    "init_printing()"
   ]
  },
  {
   "cell_type": "code",
   "execution_count": 4,
   "metadata": {},
   "outputs": [],
   "source": [
    "def f(X):\n",
    "    X = np.array(X)\n",
    "    Y = np.zeros((X.shape[0], 2))\n",
    "    radius = 0.4**2\n",
    "    margin = 0.01\n",
    "    center = (0.5, 0.5)\n",
    "        \n",
    "    Y[(X[:, 0] - center[0]) **2 + (X[:, 1] - center[1]) **2 <= radius - margin, 0] = 1.\n",
    "    Y[(X[:, 0] - center[0]) **2 + (X[:, 1] - center[1]) **2 <= radius - margin, 1] = 0.\n",
    "    \n",
    "    Y[(radius - margin < (X[:, 0] - center[0]) **2 + (X[:, 1] - center[1]) **2) *\\\n",
    "          ((X[:, 0] - center[0]) **2 + (X[:, 1] - center[1]) **2 <= radius), 0] = .75\n",
    "    Y[(radius - margin < (X[:, 0] - center[0]) **2 + (X[:, 1] - center[1]) **2) *\\\n",
    "          ((X[:, 0] - center[0]) **2 + (X[:, 1] - center[1]) **2 <= radius), 1] = .25\n",
    "    \n",
    "\n",
    "    Y[(radius < (X[:, 0] - center[0])**2 + (X[:, 1] - center[1])**2) *\\\n",
    "          ((X[:, 0] - center[0])**2 + (X[:, 1] - center[1])**2 <= radius + margin), 0] = .25\n",
    "    Y[(radius < (X[:, 0] - center[0])**2 + (X[:, 1] - center[1])**2) *\\\n",
    "          ((X[:, 0] - center[0])**2 + (X[:, 1] - center[1])**2 <= radius + margin), 1] = .75\n",
    "    \n",
    "    Y[(X[:, 0] - center[0])**2 + (X[:, 1] - center[1])**2 > (radius + margin), 0] = 0.\n",
    "    Y[(X[:, 0] - center[0])**2 + (X[:, 1] - center[1])**2 > (radius + margin), 1] = 1.\n",
    "    \n",
    "    return Y\n",
    "\n",
    "dim_X = 2"
   ]
  },
  {
   "cell_type": "code",
   "execution_count": 5,
   "metadata": {},
   "outputs": [],
   "source": [
    "n_pts = 100\n",
    "X = np.random.uniform(0, 1, (n_pts, dim_X))"
   ]
  },
  {
   "cell_type": "code",
   "execution_count": 6,
   "metadata": {},
   "outputs": [
    {
     "data": {
      "image/png": "[encoded data removed]",
      "text/plain": [
       "<Figure size 432x288 with 1 Axes>"
      ]
     },
     "metadata": {
      "needs_background": "light"
     },
     "output_type": "display_data"
    }
   ],
   "source": [
    "import matplotlib.pyplot as plt\n",
    "y = f(X)\n",
    "figure, ax = plt.subplots()\n",
    "ax.set_aspect(1)\n",
    "circle = plt.Circle((0.5, 0.5), 0.4, color='g', fill=False)\n",
    "ax.add_artist(circle)\n",
    "ax.scatter(X[:, 0][y[:, 0] > 0.75], X[:, 1][y[:, 0] > 0.75], c='r')\n",
    "ax.scatter(X[:, 0][y[:, 1] > 0.75], X[:, 1][y[:, 1] > 0.75], c='b')\n",
    "\n",
    "plt.savefig(\"syndata.png\")\n",
    "plt.show()\n"
   ]
  },
  {
   "cell_type": "code",
   "execution_count": 7,
   "metadata": {},
   "outputs": [],
   "source": [
    "n_test = 10\n",
    "X_test = np.random.uniform(0, 1, (n_test, dim_X))"
   ]
  },
  {
   "cell_type": "code",
   "execution_count": 8,
   "metadata": {},
   "outputs": [
    {
     "data": {
      "text/plain": [
       "<Figure size 432x288 with 0 Axes>"
      ]
     },
     "metadata": {},
     "output_type": "display_data"
    },
    {
     "data": {
      "image/png": "[encoded data removed]",
      "text/plain": [
       "<Figure size 432x288 with 1 Axes>"
      ]
     },
     "metadata": {
      "needs_background": "light"
     },
     "output_type": "display_data"
    }
   ],
   "source": [
    "import matplotlib.pyplot as plt\n",
    "y_ = f(X_test)\n",
    "plt.clf()\n",
    "figure, ax = plt.subplots()\n",
    "ax.set_aspect(1)\n",
    "circle = plt.Circle((0.5, 0.5), 0.4, color='g', fill=False)\n",
    "ax.add_artist(circle)\n",
    "ax.scatter(X_test[:, 0][y_[:, 0] > 0.75], X_test[:, 1][y_[:, 0] > 0.75], c='r')\n",
    "ax.scatter(X_test[:, 0][y_[:, 1] > 0.75], X_test[:, 1][y_[:, 1] > 0.75], c='b')\n",
    "plt.show()"
   ]
  },
  {
   "cell_type": "code",
   "execution_count": null,
   "metadata": {
    "scrolled": true
   },
   "outputs": [
    {
     "name": "stdout",
     "output_type": "stream",
     "text": [
      "Model created with the following hyperparameters :\n",
      " loss_tol=0.01 \n",
      " ratio_tol=0.9 \n",
      " maxiter=20 \n",
      " eps=0.001 \n",
      " random_seed=42\n",
      "%%%%%%%%%%%%%%%%%%%%%%%%%%%%%%%%%%%%%%%%%%%%%%%%%%%%%%%%%%%%%%%%%%%%%%%%%%%%%%%%%%%%%%%%%%%%%%%%%%%%\n",
      "Now working on term number  1 .\n",
      "====================================================================================================\n",
      "Now working on hyperparameter tree number  1 .\n",
      "Optimization terminated successfully.\n",
      "         Current function value: 0.669530\n",
      "         Iterations: 1\n",
      "         Function evaluations: 27\n",
      "         Gradient evaluations: 3\n",
      "basinhopping step 0: f 0.66953\n",
      "Optimization terminated successfully.\n",
      "         Current function value: 0.668907\n",
      "         Iterations: 0\n",
      "         Function evaluations: 9\n",
      "         Gradient evaluations: 1\n",
      "basinhopping step 1: f 0.668907 trial_f 0.668907 accepted 1  lowest_f 0.668907\n",
      "found new global minimum on step 1 with function value 0.668907\n",
      "Optimization terminated successfully.\n",
      "         Current function value: 0.669091\n",
      "         Iterations: 0\n",
      "         Function evaluations: 9\n",
      "         Gradient evaluations: 1\n",
      "basinhopping step 2: f 0.669091 trial_f 0.669091 accepted 1  lowest_f 0.668907\n",
      "Optimization terminated successfully.\n",
      "         Current function value: 0.669926\n",
      "         Iterations: 0\n",
      "         Function evaluations: 9\n",
      "         Gradient evaluations: 1\n",
      "basinhopping step 3: f 0.669926 trial_f 0.669926 accepted 1  lowest_f 0.668907\n",
      "Optimization terminated successfully.\n",
      "         Current function value: 0.668889\n",
      "         Iterations: 0\n",
      "         Function evaluations: 9\n",
      "         Gradient evaluations: 1\n",
      "basinhopping step 4: f 0.668889 trial_f 0.668889 accepted 1  lowest_f 0.668889\n",
      "found new global minimum on step 4 with function value 0.668889\n",
      "Optimization terminated successfully.\n",
      "         Current function value: 0.668899\n",
      "         Iterations: 0\n",
      "         Function evaluations: 9\n",
      "         Gradient evaluations: 1\n",
      "basinhopping step 5: f 0.668899 trial_f 0.668899 accepted 1  lowest_f 0.668889\n",
      "Optimization terminated successfully.\n",
      "         Current function value: 0.668890\n",
      "         Iterations: 0\n",
      "         Function evaluations: 9\n",
      "         Gradient evaluations: 1\n",
      "basinhopping step 6: f 0.66889 trial_f 0.66889 accepted 1  lowest_f 0.668889\n",
      "Optimization terminated successfully.\n",
      "         Current function value: 0.668912\n",
      "         Iterations: 0\n",
      "         Function evaluations: 9\n",
      "         Gradient evaluations: 1\n",
      "basinhopping step 7: f 0.668912 trial_f 0.668912 accepted 1  lowest_f 0.668889\n",
      "Optimization terminated successfully.\n",
      "         Current function value: 0.668946\n",
      "         Iterations: 0\n",
      "         Function evaluations: 9\n",
      "         Gradient evaluations: 1\n",
      "basinhopping step 8: f 0.668946 trial_f 0.668946 accepted 1  lowest_f 0.668889\n",
      "====================================================================================================\n",
      "Now working on hyperparameter tree number  2 .\n",
      "Warning: Desired error not necessarily achieved due to precision loss.\n",
      "         Current function value: 0.676727\n",
      "         Iterations: 2\n",
      "         Function evaluations: 495\n",
      "         Gradient evaluations: 44\n",
      "warning: basinhopping: local minimization failure\n",
      "basinhopping step 0: f 0.676727\n"
     ]
    }
   ],
   "source": [
    "from symbolic_pursuit.classification import SymbolicClassifier  # our symbolic model class\n",
    "\n",
    "symbolic_model = SymbolicClassifier(verbosity=True,\n",
    "                                    maxiter=20,\n",
    "                                    nclasses=2,\n",
    "                                   loss_tol = 0.01)\n",
    "symbolic_model.fit(f, X)"
   ]
  },
  {
   "cell_type": "code",
   "execution_count": 37,
   "metadata": {},
   "outputs": [
    {
     "name": "stdout",
     "output_type": "stream",
     "text": [
      "0.6\n"
     ]
    }
   ],
   "source": [
    "print (accuracy_score(np.argmax(symbolic_model.predict(X_test), 1), np.argmax(f(X_test), 1)))"
   ]
  },
  {
   "cell_type": "code",
   "execution_count": 44,
   "metadata": {},
   "outputs": [
    {
     "data": {
      "text/plain": [
       "array([[0.5       , 0.5       ],\n",
       "       [0.5016112 , 0.4983888 ],\n",
       "       [0.50092513, 0.49907487],\n",
       "       [0.50002754, 0.49997246],\n",
       "       [0.50063648, 0.49936352],\n",
       "       [0.50111082, 0.49888918],\n",
       "       [0.50004492, 0.49995508],\n",
       "       [0.50091463, 0.49908537],\n",
       "       [0.50097109, 0.49902891],\n",
       "       [0.50033814, 0.49966186]])"
      ]
     },
     "execution_count": 44,
     "metadata": {},
     "output_type": "execute_result"
    }
   ],
   "source": [
    "symbolic_model.predict(X_test)"
   ]
  },
  {
   "cell_type": "code",
   "execution_count": 51,
   "metadata": {},
   "outputs": [
    {
     "name": "stdout",
     "output_type": "stream",
     "text": [
      "1e-05 [-1.19861135 -0.92621106] [array([-1.19861135, -0.92621106]), array([-1.16045657,  2.816249  ])]\n",
      "1 [-1.16045657  2.816249  ] [array([-1.19861135, -0.92621106]), array([-1.16045657,  2.816249  ])]\n",
      "1 [-1.16045657  2.816249  ] [array([-1.19861135, -0.92621106]), array([-1.16045657,  2.816249  ])]\n",
      "1 [-1.16045657  2.816249  ] [array([-1.19861135, -0.92621106]), array([-1.16045657,  2.816249  ])]\n",
      "1 [-1.16045657  2.816249  ] [array([-1.19861135, -0.92621106]), array([-1.16045657,  2.816249  ])]\n",
      "1 [-1.16045657  2.816249  ] [array([-1.19861135, -0.92621106]), array([-1.16045657,  2.816249  ])]\n",
      "1 [-1.16045657  2.816249  ] [array([-1.19861135, -0.92621106]), array([-1.16045657,  2.816249  ])]\n",
      "1 [-1.16045657  2.816249  ] [array([-1.19861135, -0.92621106]), array([-1.16045657,  2.816249  ])]\n",
      "1 [-1.16045657  2.816249  ] [array([-1.19861135, -0.92621106]), array([-1.16045657,  2.816249  ])]\n",
      "1 [-1.16045657  2.816249  ] [array([-1.19861135, -0.92621106]), array([-1.16045657,  2.816249  ])]\n"
     ]
    }
   ],
   "source": [
    "symbolic_weight_list = [] \n",
    "for k in range(n_test):\n",
    "    symbolic_weight_list.append(symbolic_model.get_feature_importance(X_test[k]))"
   ]
  },
  {
   "cell_type": "code",
   "execution_count": 50,
   "metadata": {},
   "outputs": [
    {
     "name": "stdout",
     "output_type": "stream",
     "text": [
      "[[79.8449696627400, 61.6991460181191], [0.00132464285926408, -0.00318043533106650], [0.00132464285926408, -0.00318043533106650], [0.00132464285926408, -0.00318043533106650], [0.00132464285926408, -0.00318043533106650], [0.00132464285926408, -0.00318043533106650], [0.00132464285926408, -0.00318043533106650], [0.00132464285926408, -0.00318043533106650], [0.00132464285926408, -0.00318043533106650], [0.00132464285926408, -0.00318043533106650]]\n"
     ]
    }
   ],
   "source": [
    "print (symbolic_weight_list)"
   ]
  },
  {
   "cell_type": "code",
   "execution_count": 47,
   "metadata": {},
   "outputs": [
    {
     "name": "stdout",
     "output_type": "stream",
     "text": [
      "-2.40097571116899 0\n"
     ]
    }
   ],
   "source": [
    "relative_wts = np.array(symbolic_weight_list)[np.argmax(f(X_test), 1) == 0]\n",
    "relative_wts /= relative_wts[:, 0][..., None]\n",
    "print (np.mean(relative_wts[:, 1]), np.var(relative_wts[:, 1]))"
   ]
  },
  {
   "cell_type": "code",
   "execution_count": 52,
   "metadata": {},
   "outputs": [
    {
     "data": {
      "image/png": "[encoded data removed]",
      "text/latex": [
       "$\\displaystyle -1.1840000000000002$"
      ],
      "text/plain": [
       "-1.1840000000000002"
      ]
     },
     "execution_count": 52,
     "metadata": {},
     "output_type": "execute_result"
    }
   ],
   "source": [
    "1.2*1.16 - 0.92*2.8"
   ]
  },
  {
   "cell_type": "code",
   "execution_count": 49,
   "metadata": {},
   "outputs": [
    {
     "name": "stdout",
     "output_type": "stream",
     "text": [
      "[[0.5 0.5]]\n",
      "79.8449596627409*X0 + 61.6991360181198*X1 + 2324976.1603848*(-X0 - 0.772736767339257*X1 - 1.78724486939978e-5)**2 + 0.0363181693976493 1\n",
      "[[0.5016112 0.4983888]]\n",
      "0.00131464285926408*X0 - 0.0031904353310665*X1 + 0.000942474122444948*(-0.269394442010595*X0 + 0.653778735210775*X1 - 1)**2 + 0.0220627948841764 1\n",
      "[[0.50092513 0.49907487]]\n",
      "0.00131464285926408*X0 - 0.0031904353310665*X1 + 0.000942474122444948*(-0.269394442010595*X0 + 0.653778735210775*X1 - 1)**2 + 0.0220627948841764 0\n",
      "[[0.50002754 0.49997246]]\n",
      "0.00131464285926408*X0 - 0.0031904353310665*X1 + 0.000942474122444948*(-0.269394442010595*X0 + 0.653778735210775*X1 - 1)**2 + 0.0220627948841764 0\n",
      "[[0.50063648 0.49936352]]\n",
      "0.00131464285926408*X0 - 0.0031904353310665*X1 + 0.000942474122444948*(-0.269394442010595*X0 + 0.653778735210775*X1 - 1)**2 + 0.0220627948841764 1\n"
     ]
    }
   ],
   "source": [
    "Y = np.argmax(f(X_test), 1)\n",
    "for i in range(5):\n",
    "    print (symbolic_model.predict([X_test[i]]))\n",
    "    poly1 = symbolic_model.get_taylor(X_test[i], approx_order=2)\n",
    "    print(poly1, Y[i])"
   ]
  },
  {
   "cell_type": "code",
   "execution_count": null,
   "metadata": {},
   "outputs": [],
   "source": []
  },
  {
   "cell_type": "code",
   "execution_count": null,
   "metadata": {},
   "outputs": [],
   "source": []
  },
  {
   "cell_type": "code",
   "execution_count": null,
   "metadata": {},
   "outputs": [],
   "source": []
  },
  {
   "cell_type": "code",
   "execution_count": null,
   "metadata": {},
   "outputs": [],
   "source": []
  },
  {
   "cell_type": "code",
   "execution_count": null,
   "metadata": {},
   "outputs": [],
   "source": []
  },
  {
   "cell_type": "code",
   "execution_count": null,
   "metadata": {},
   "outputs": [],
   "source": [
    "def order_weights(exp_list):\n",
    "    ordered_weights = [0 for _ in range(dim_X)]\n",
    "    for tup in exp_list:\n",
    "        feature_id = int(tup[0].split('x_')[1][0])\n",
    "        ordered_weights[feature_id-1] = tup[1]    \n",
    "    return ordered_weights   "
   ]
  },
  {
   "cell_type": "code",
   "execution_count": null,
   "metadata": {},
   "outputs": [],
   "source": [
    "lime_weight_list = []\n",
    "explainer = lime.lime_tabular.LimeTabularExplainer(X, \n",
    "                                                   feature_names=[\"x_\"+str(k) for k in range(1,dim_X+1)], \n",
    "                                                   class_names=['f'], \n",
    "                                                   verbose=False,\n",
    "                                                   mode='classification')\n",
    "\n",
    "for i in range(n_test):\n",
    "    exp = explainer.explain_instance(X_test[i], f, num_features=dim_X)\n",
    "    lime_weight_list.append(order_weights(exp.as_list()))  \n",
    "                            \n",
    "print(lime_weight_list) "
   ]
  },
  {
   "cell_type": "code",
   "execution_count": null,
   "metadata": {},
   "outputs": [],
   "source": [
    "relative_wts = np.array(lime_weight_list)\n",
    "relative_wts /= relative_wts[:, 0][..., None]\n",
    "print (np.mean(relative_wts[:, 1]), np.var(relative_wts[:, 1]))"
   ]
  },
  {
   "cell_type": "code",
   "execution_count": null,
   "metadata": {},
   "outputs": [],
   "source": []
  },
  {
   "cell_type": "code",
   "execution_count": null,
   "metadata": {},
   "outputs": [],
   "source": []
  },
  {
   "cell_type": "code",
   "execution_count": null,
   "metadata": {},
   "outputs": [],
   "source": []
  }
 ],
 "metadata": {
  "kernelspec": {
   "display_name": "Python 3",
   "language": "python",
   "name": "python3"
  },
  "language_info": {
   "codemirror_mode": {
    "name": "ipython",
    "version": 3
   },
   "file_extension": ".py",
   "mimetype": "text/x-python",
   "name": "python",
   "nbconvert_exporter": "python",
   "pygments_lexer": "ipython3",
   "version": "3.7.7"
  }
 },
 "nbformat": 4,
 "nbformat_minor": 4
}

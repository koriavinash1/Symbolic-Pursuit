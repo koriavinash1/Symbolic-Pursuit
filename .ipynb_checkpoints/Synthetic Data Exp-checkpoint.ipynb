{
 "cells": [
  {
   "cell_type": "code",
   "execution_count": 1,
   "metadata": {},
   "outputs": [],
   "source": [
    "# ipython settings\n",
    "%load_ext autoreload\n",
    "%autoreload 2\n",
    "import warnings\n",
    "\n",
    "warnings.filterwarnings('ignore')"
   ]
  },
  {
   "cell_type": "code",
   "execution_count": 2,
   "metadata": {},
   "outputs": [],
   "source": [
    "from sklearn.metrics import mean_squared_error # we are going to assess the quality of the model based on the generalization MSE\n",
    "from sklearn.metrics import accuracy_score\n",
    "from sympy import init_printing # We use sympy to display mathematical expresssions \n",
    "import numpy as np # we use numpy to deal with arrays\n",
    "import lime \n",
    "import lime.lime_tabular\n",
    "init_printing()"
   ]
  },
  {
   "cell_type": "code",
   "execution_count": 3,
   "metadata": {},
   "outputs": [],
   "source": [
    "def f(X):\n",
    "    X = np.array(X)\n",
    "    Y = np.zeros((X.shape[0], 2))\n",
    "    radius = 0.4**2\n",
    "    margin = 0.01\n",
    "    center = (0.5, 0.5)\n",
    "        \n",
    "    Y[(X[:, 0] - center[0]) **2 + (X[:, 1] - center[1]) **2 <= radius - margin, 0] = 1.\n",
    "    Y[(X[:, 0] - center[0]) **2 + (X[:, 1] - center[1]) **2 <= radius - margin, 1] = 0.\n",
    "    \n",
    "    Y[(radius - margin < (X[:, 0] - center[0]) **2 + (X[:, 1] - center[1]) **2) *\\\n",
    "          ((X[:, 0] - center[0]) **2 + (X[:, 1] - center[1]) **2 <= radius), 0] = .75\n",
    "    Y[(radius - margin < (X[:, 0] - center[0]) **2 + (X[:, 1] - center[1]) **2) *\\\n",
    "          ((X[:, 0] - center[0]) **2 + (X[:, 1] - center[1]) **2 <= radius), 1] = .25\n",
    "    \n",
    "\n",
    "    Y[(radius < (X[:, 0] - center[0])**2 + (X[:, 1] - center[1])**2) *\\\n",
    "          ((X[:, 0] - center[0])**2 + (X[:, 1] - center[1])**2 <= radius + margin), 0] = .25\n",
    "    Y[(radius < (X[:, 0] - center[0])**2 + (X[:, 1] - center[1])**2) *\\\n",
    "          ((X[:, 0] - center[0])**2 + (X[:, 1] - center[1])**2 <= radius + margin), 1] = .75\n",
    "    \n",
    "    Y[(X[:, 0] - center[0])**2 + (X[:, 1] - center[1])**2 > (radius + margin), 0] = 0.\n",
    "    Y[(X[:, 0] - center[0])**2 + (X[:, 1] - center[1])**2 > (radius + margin), 1] = 1.\n",
    "    \n",
    "    return Y\n",
    "\n",
    "dim_X = 2"
   ]
  },
  {
   "cell_type": "code",
   "execution_count": 4,
   "metadata": {},
   "outputs": [],
   "source": [
    "n_pts = 100\n",
    "X = np.random.uniform(0, 1, (n_pts, dim_X))"
   ]
  },
  {
   "cell_type": "code",
   "execution_count": 5,
   "metadata": {},
   "outputs": [
    {
     "data": {
      "image/png": "[encoded data removed]",
      "text/plain": [
       "<Figure size 432x288 with 1 Axes>"
      ]
     },
     "metadata": {
      "needs_background": "light"
     },
     "output_type": "display_data"
    }
   ],
   "source": [
    "import matplotlib.pyplot as plt\n",
    "y = f(X)\n",
    "figure, ax = plt.subplots()\n",
    "ax.set_aspect(1)\n",
    "circle = plt.Circle((0.5, 0.5), 0.4, color='g', fill=False)\n",
    "ax.add_artist(circle)\n",
    "ax.scatter(X[:, 0][y[:, 0] > 0.75], X[:, 1][y[:, 0] > 0.75], c='r')\n",
    "ax.scatter(X[:, 0][y[:, 1] > 0.75], X[:, 1][y[:, 1] > 0.75], c='b')\n",
    "\n",
    "plt.savefig(\"syndata.png\")\n",
    "plt.show()\n"
   ]
  },
  {
   "cell_type": "code",
   "execution_count": 6,
   "metadata": {},
   "outputs": [],
   "source": [
    "n_test = 50\n",
    "X_test = np.random.uniform(0, 1, (n_test, dim_X))"
   ]
  },
  {
   "cell_type": "code",
   "execution_count": 7,
   "metadata": {},
   "outputs": [
    {
     "data": {
      "image/png": "[encoded data removed]",
      "text/plain": [
       "<Figure size 432x288 with 1 Axes>"
      ]
     },
     "metadata": {
      "needs_background": "light"
     },
     "output_type": "display_data"
    }
   ],
   "source": [
    "import matplotlib.pyplot as plt\n",
    "y_ = f(X_test)\n",
    "figure, ax = plt.subplots()\n",
    "ax.set_aspect(1)\n",
    "circle = plt.Circle((0.5, 0.5), 0.4, color='g', fill=False)\n",
    "ax.add_artist(circle)\n",
    "ax.scatter(X_test[:, 0][y_[:, 0] > 0.75], X_test[:, 1][y_[:, 0] > 0.75], c='r')\n",
    "ax.scatter(X_test[:, 0][y_[:, 1] > 0.75], X_test[:, 1][y_[:, 1] > 0.75], c='b')\n",
    "plt.show()"
   ]
  },
  {
   "cell_type": "code",
   "execution_count": null,
   "metadata": {},
   "outputs": [
    {
     "name": "stdout",
     "output_type": "stream",
     "text": [
      "Model created with the following hyperparameters :\n",
      " loss_tol=0.001 \n",
      " ratio_tol=0.9 \n",
      " maxiter=20 \n",
      " eps=1e-05 \n",
      " random_seed=42\n",
      "%%%%%%%%%%%%%%%%%%%%%%%%%%%%%%%%%%%%%%%%%%%%%%%%%%%%%%%%%%%%%%%%%%%%%%%%%%%%%%%%%%%%%%%%%%%%%%%%%%%%\n",
      "Now working on term number  1 .\n",
      "====================================================================================================\n",
      "Now working on hyperparameter tree number  1 .\n"
     ]
    }
   ],
   "source": [
    "from symbolic_pursuit.classification import SymbolicClassifier  # our symbolic model class\n",
    "\n",
    "symbolic_model = SymbolicClassifier(maxiter=20,\n",
    "                                    nclasses=2,\n",
    "                                    eps=1.0e-5)\n",
    "symbolic_model.fit(f, X)"
   ]
  },
  {
   "cell_type": "code",
   "execution_count": 9,
   "metadata": {},
   "outputs": [
    {
     "name": "stdout",
     "output_type": "stream",
     "text": [
      "0.56\n"
     ]
    }
   ],
   "source": [
    "print (accuracy_score(np.argmax(symbolic_model.predict(X_test), 1), np.argmax(f(X_test), 1)))\n"
   ]
  },
  {
   "cell_type": "code",
   "execution_count": 21,
   "metadata": {},
   "outputs": [],
   "source": [
    "symbolic_weight_list = [] \n",
    "for k in range(n_test):\n",
    "    symbolic_weight_list.append(symbolic_model.get_feature_importance(X_test[k]))"
   ]
  },
  {
   "cell_type": "code",
   "execution_count": 22,
   "metadata": {},
   "outputs": [
    {
     "name": "stdout",
     "output_type": "stream",
     "text": [
      "[[0.202450201235661, 0.326152908930971], [-0.0834801291273856, -0.135274571873370], [-0.0646685842030177, -0.104792982876342], [-0.0779079213229854, -0.126245555448475], [0.0174180637840733, 0.0282174357865640], [-0.0277392680399458, -0.0449539722182689], [-0.0828929316179947, -0.134323096956594], [0.0381082071439821, 0.0613884220088209], [-0.0702264987484397, -0.113145074313903], [-0.00924543394668309, -0.0149871910699629], [0.784820417476618, 1.26438511399818], [0.160604735845195, 0.260232259936687], [-0.0735765058915387, -0.119227076876536], [0.0104795382798203, 0.0168770335679514], [0.143047856044636, 0.230452284550689], [-0.0808873337039917, -0.131073294159763], [-0.0349574679688055, -0.0566500984223889], [-0.0823779072078709, -0.133488568880567], [0.0419576283407539, 0.0675900628842625], [0.0187398940716817, 0.0301849459802017], [-0.0444986965797252, -0.0721103814674037], [-0.0375410930566080, -0.0608365168354132], [0.0173174981712846, 0.0280544826804485], [-0.0790741132139657, -0.127399094519738], [-0.0700566790785754, -0.113523668959492], [0.134731415445848, 0.218308009612105], [-0.00831692042793070, -0.0134826592746964], [-0.0528493586302606, -0.0856415108616607], [0.0574275467851142, 0.0925129989985928], [0.0657211120162875, 0.105874413744248], [0.0456594921154023, 0.0735539801919940], [-0.0656870045997578, -0.105831685877765], [-0.0682743807929600, -0.110635693302487], [-0.0233312378997402, -0.0378113497722938], [-0.0545144529673215, -0.0883395732179228], [-0.0785794599649367, -0.127333693874207], [0.00435852512448170, 0.00701572625892078], [-0.0691560714439876, -0.112064354911898], [-0.0163132688967986, -0.0264396709653902], [-0.0607956605549734, -0.0979514468461358], [0.127652489158788, 0.206837557690695], [0.00228237528982745, 0.00367092842569567], [-0.0450232038832354, -0.0729602753020578], [0.195609786841511, 0.315132604489541], [-0.0817696598847652, -0.132502985560006], [-0.0547729024817697, -0.0887583560402569], [-0.00838051333755365, -0.0135857030673273], [0.329111794288118, 0.530212083718445], [-0.0476815333089192, -0.0768238270255051], [-0.0819055489775009, -0.131960701802945]]\n"
     ]
    }
   ],
   "source": [
    "print (symbolic_weight_list)"
   ]
  },
  {
   "cell_type": "code",
   "execution_count": 23,
   "metadata": {},
   "outputs": [
    {
     "name": "stdout",
     "output_type": "stream",
     "text": [
      "1.61683400653396 2.39992012789675e-5\n"
     ]
    }
   ],
   "source": [
    "relative_wts = np.array(symbolic_weight_list)[np.argmax(f(X_test), 1) == 0]\n",
    "relative_wts /= relative_wts[:, 0][..., None]\n",
    "print (np.mean(relative_wts[:, 1]), np.var(relative_wts[:, 1]))"
   ]
  },
  {
   "cell_type": "code",
   "execution_count": 24,
   "metadata": {},
   "outputs": [
    {
     "name": "stdout",
     "output_type": "stream",
     "text": [
      "[[0.49994047 0.50005953]]\n",
      "0.202440201235661*X0 + 0.326142908930971*X1 - 0.923887511749522*(0.620710111095833*X0 + X1 - 0.231089005808058)**2 + 0.270367611245486 1\n",
      "[[0.5000182 0.4999818]]\n",
      "-0.0834901291273856*X0 - 0.13528457187337*X1 - 0.0742361329467596*(0.451505818962808*X0 + 0.73160470650995*X1 - 1)**2 + 0.516643335857985 1\n",
      "[[0.50004113 0.49995887]]\n",
      "-0.0646785842030177*X0 - 0.104802982876342*X1 - 0.0810614209452742*(0.571188618345317*X0 + 0.925534653011353*X1 - 1)**2 + 0.479747432458203 1\n",
      "[[0.50000903 0.49999097]]\n",
      "-0.0779179213229854*X0 - 0.126255555448475*X1 - 0.0776112165119551*(0.488139837242659*X0 + 0.790965226499434*X1 - 1)**2 + 0.504780506670452 0\n",
      "[[0.50000632 0.49999368]]\n",
      "0.0174080637840733*X0 + 0.028207435786564*X1 - 0.227555144982471*(0.617144497493289*X0 + X1 - 0.561358213610699)**2 + 0.377248440290949 1\n"
     ]
    }
   ],
   "source": [
    "Y = np.argmax(f(X_test), 1)\n",
    "for i in range(5):\n",
    "    print (symbolic_model.predict([X_test[i]]))\n",
    "    poly1 = symbolic_model.get_taylor(X_test[i], approx_order=2)\n",
    "    print(poly1, Y[i])"
   ]
  },
  {
   "cell_type": "code",
   "execution_count": null,
   "metadata": {},
   "outputs": [],
   "source": []
  },
  {
   "cell_type": "code",
   "execution_count": null,
   "metadata": {},
   "outputs": [],
   "source": []
  },
  {
   "cell_type": "code",
   "execution_count": null,
   "metadata": {},
   "outputs": [],
   "source": []
  },
  {
   "cell_type": "code",
   "execution_count": null,
   "metadata": {},
   "outputs": [],
   "source": []
  },
  {
   "cell_type": "code",
   "execution_count": null,
   "metadata": {},
   "outputs": [],
   "source": []
  },
  {
   "cell_type": "code",
   "execution_count": null,
   "metadata": {},
   "outputs": [],
   "source": [
    "def order_weights(exp_list):\n",
    "    ordered_weights = [0 for _ in range(dim_X)]\n",
    "    for tup in exp_list:\n",
    "        feature_id = int(tup[0].split('x_')[1][0])\n",
    "        ordered_weights[feature_id-1] = tup[1]    \n",
    "    return ordered_weights   "
   ]
  },
  {
   "cell_type": "code",
   "execution_count": null,
   "metadata": {},
   "outputs": [],
   "source": [
    "lime_weight_list = []\n",
    "explainer = lime.lime_tabular.LimeTabularExplainer(X, \n",
    "                                                   feature_names=[\"x_\"+str(k) for k in range(1,dim_X+1)], \n",
    "                                                   class_names=['f'], \n",
    "                                                   verbose=False,\n",
    "                                                   mode='classification')\n",
    "\n",
    "for i in range(n_test):\n",
    "    exp = explainer.explain_instance(X_test[i], f, num_features=dim_X)\n",
    "    lime_weight_list.append(order_weights(exp.as_list()))  \n",
    "                            \n",
    "print(lime_weight_list) "
   ]
  },
  {
   "cell_type": "code",
   "execution_count": null,
   "metadata": {},
   "outputs": [],
   "source": [
    "relative_wts = np.array(lime_weight_list)\n",
    "relative_wts /= relative_wts[:, 0][..., None]\n",
    "print (np.mean(relative_wts[:, 1]), np.var(relative_wts[:, 1]))"
   ]
  },
  {
   "cell_type": "code",
   "execution_count": null,
   "metadata": {},
   "outputs": [],
   "source": []
  },
  {
   "cell_type": "code",
   "execution_count": null,
   "metadata": {},
   "outputs": [],
   "source": []
  },
  {
   "cell_type": "code",
   "execution_count": null,
   "metadata": {},
   "outputs": [],
   "source": []
  }
 ],
 "metadata": {
  "kernelspec": {
   "display_name": "Python 3",
   "language": "python",
   "name": "python3"
  },
  "language_info": {
   "codemirror_mode": {
    "name": "ipython",
    "version": 3
   },
   "file_extension": ".py",
   "mimetype": "text/x-python",
   "name": "python",
   "nbconvert_exporter": "python",
   "pygments_lexer": "ipython3",
   "version": "3.7.7"
  }
 },
 "nbformat": 4,
 "nbformat_minor": 4
}
